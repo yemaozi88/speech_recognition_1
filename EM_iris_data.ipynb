{
 "cells": [
  {
   "cell_type": "code",
   "execution_count": 1,
   "id": "4f10b1b1",
   "metadata": {},
   "outputs": [],
   "source": [
    "import numpy as np\n",
    "from numpy import linalg as la\n",
    "import matplotlib.pyplot as plt\n",
    "from matplotlib.patches import Ellipse\n",
    "from sklearn.datasets import load_iris\n",
    "from scipy.stats import multivariate_normal\n",
    "from scipy.stats import chi2\n",
    "import pandas as pd\n"
   ]
  },
  {
   "cell_type": "code",
   "execution_count": 2,
   "id": "8192cf83",
   "metadata": {},
   "outputs": [
    {
     "name": "stdout",
     "output_type": "stream",
     "text": [
      "[0 0 0 0 0 0 0 0 0 0 0 0 0 0 0 0 0 0 0 0 0 0 0 0 0 0 0 0 0 0 0 0 0 0 0 0 0\n",
      " 0 0 0 0 0 0 0 0 0 0 0 0 0 1 1 1 1 1 1 1 1 1 1 1 1 1 1 1 1 1 1 1 1 1 1 1 1\n",
      " 1 1 1 1 1 1 1 1 1 1 1 1 1 1 1 1 1 1 1 1 1 1 1 1 1 1 2 2 2 2 2 2 2 2 2 2 2\n",
      " 2 2 2 2 2 2 2 2 2 2 2 2 2 2 2 2 2 2 2 2 2 2 2 2 2 2 2 2 2 2 2 2 2 2 2 2 2\n",
      " 2 2] (150,) ['setosa' 'versicolor' 'virginica']\n",
      "(40, 4) (40, 4) (40, 4)\n"
     ]
    }
   ],
   "source": [
    "iris = load_iris()\n",
    "\n",
    "setosa_data     = iris.data[0:40]\n",
    "versicolor_data = iris.data[50:90]\n",
    "virginica_data  = iris.data[100:140]\n",
    "\n",
    "print(iris.target, iris.target.shape, iris.target_names)\n",
    "print(setosa_data.shape, versicolor_data.shape, virginica_data.shape)"
   ]
  },
  {
   "cell_type": "code",
   "execution_count": 3,
   "id": "4aa271c0",
   "metadata": {},
   "outputs": [
    {
     "data": {
      "text/html": [
       "<div>\n",
       "<style scoped>\n",
       "    .dataframe tbody tr th:only-of-type {\n",
       "        vertical-align: middle;\n",
       "    }\n",
       "\n",
       "    .dataframe tbody tr th {\n",
       "        vertical-align: top;\n",
       "    }\n",
       "\n",
       "    .dataframe thead th {\n",
       "        text-align: right;\n",
       "    }\n",
       "</style>\n",
       "<table border=\"1\" class=\"dataframe\">\n",
       "  <thead>\n",
       "    <tr style=\"text-align: right;\">\n",
       "      <th></th>\n",
       "      <th>sepal length (cm)</th>\n",
       "      <th>sepal width (cm)</th>\n",
       "      <th>petal length (cm)</th>\n",
       "      <th>petal width (cm)</th>\n",
       "    </tr>\n",
       "  </thead>\n",
       "  <tbody>\n",
       "    <tr>\n",
       "      <th>0</th>\n",
       "      <td>5.1</td>\n",
       "      <td>3.5</td>\n",
       "      <td>1.4</td>\n",
       "      <td>0.2</td>\n",
       "    </tr>\n",
       "    <tr>\n",
       "      <th>1</th>\n",
       "      <td>4.9</td>\n",
       "      <td>3.0</td>\n",
       "      <td>1.4</td>\n",
       "      <td>0.2</td>\n",
       "    </tr>\n",
       "    <tr>\n",
       "      <th>2</th>\n",
       "      <td>4.7</td>\n",
       "      <td>3.2</td>\n",
       "      <td>1.3</td>\n",
       "      <td>0.2</td>\n",
       "    </tr>\n",
       "    <tr>\n",
       "      <th>3</th>\n",
       "      <td>4.6</td>\n",
       "      <td>3.1</td>\n",
       "      <td>1.5</td>\n",
       "      <td>0.2</td>\n",
       "    </tr>\n",
       "    <tr>\n",
       "      <th>4</th>\n",
       "      <td>5.0</td>\n",
       "      <td>3.6</td>\n",
       "      <td>1.4</td>\n",
       "      <td>0.2</td>\n",
       "    </tr>\n",
       "    <tr>\n",
       "      <th>...</th>\n",
       "      <td>...</td>\n",
       "      <td>...</td>\n",
       "      <td>...</td>\n",
       "      <td>...</td>\n",
       "    </tr>\n",
       "    <tr>\n",
       "      <th>145</th>\n",
       "      <td>6.7</td>\n",
       "      <td>3.0</td>\n",
       "      <td>5.2</td>\n",
       "      <td>2.3</td>\n",
       "    </tr>\n",
       "    <tr>\n",
       "      <th>146</th>\n",
       "      <td>6.3</td>\n",
       "      <td>2.5</td>\n",
       "      <td>5.0</td>\n",
       "      <td>1.9</td>\n",
       "    </tr>\n",
       "    <tr>\n",
       "      <th>147</th>\n",
       "      <td>6.5</td>\n",
       "      <td>3.0</td>\n",
       "      <td>5.2</td>\n",
       "      <td>2.0</td>\n",
       "    </tr>\n",
       "    <tr>\n",
       "      <th>148</th>\n",
       "      <td>6.2</td>\n",
       "      <td>3.4</td>\n",
       "      <td>5.4</td>\n",
       "      <td>2.3</td>\n",
       "    </tr>\n",
       "    <tr>\n",
       "      <th>149</th>\n",
       "      <td>5.9</td>\n",
       "      <td>3.0</td>\n",
       "      <td>5.1</td>\n",
       "      <td>1.8</td>\n",
       "    </tr>\n",
       "  </tbody>\n",
       "</table>\n",
       "<p>150 rows × 4 columns</p>\n",
       "</div>"
      ],
      "text/plain": [
       "     sepal length (cm)  sepal width (cm)  petal length (cm)  petal width (cm)\n",
       "0                  5.1               3.5                1.4               0.2\n",
       "1                  4.9               3.0                1.4               0.2\n",
       "2                  4.7               3.2                1.3               0.2\n",
       "3                  4.6               3.1                1.5               0.2\n",
       "4                  5.0               3.6                1.4               0.2\n",
       "..                 ...               ...                ...               ...\n",
       "145                6.7               3.0                5.2               2.3\n",
       "146                6.3               2.5                5.0               1.9\n",
       "147                6.5               3.0                5.2               2.0\n",
       "148                6.2               3.4                5.4               2.3\n",
       "149                5.9               3.0                5.1               1.8\n",
       "\n",
       "[150 rows x 4 columns]"
      ]
     },
     "execution_count": 3,
     "metadata": {},
     "output_type": "execute_result"
    }
   ],
   "source": [
    "pd.DataFrame(iris.data, columns=iris.feature_names)"
   ]
  },
  {
   "cell_type": "code",
   "execution_count": 4,
   "id": "da455001",
   "metadata": {},
   "outputs": [],
   "source": [
    "setosa_centroids     = np.mean(setosa_data[:,:2], 0) # np.array([setosa_data.mean(axis = 0)])\n",
    "versicolor_centroids = np.mean(versicolor_data[:,:2], 0) # np.array([versicolor_data.mean(axis = 0)])\n",
    "virginica_centroids  = np.mean(virginica_data[:,:2], 0) # np.array([virginica_data.mean(axis = 0)])"
   ]
  },
  {
   "cell_type": "code",
   "execution_count": 5,
   "id": "b4fc8f78",
   "metadata": {
    "scrolled": true
   },
   "outputs": [
    {
     "data": {
      "image/png": "[encoded data removed]",
      "text/plain": [
       "<Figure size 432x288 with 1 Axes>"
      ]
     },
     "metadata": {
      "needs_background": "light"
     },
     "output_type": "display_data"
    }
   ],
   "source": [
    "p = plt.subplot()\n",
    "\n",
    "p.scatter(setosa_data[:,0], setosa_data[:,1], c = 'red')\n",
    "p.scatter(versicolor_data[:,0], versicolor_data[:,1], c = 'blue')\n",
    "p.scatter(virginica_data[:,0], virginica_data[:,1], c = 'green')\n",
    "\n",
    "#p.scatter(setosa_centroids[:,0], setosa_centroids[:,1], c = 'red', marker='s', edgecolors='black')\n",
    "#p.scatter(versicolor_centroids[:,0], versicolor_centroids[:,1], c = 'blue', marker='s', edgecolors='black')\n",
    "#p.scatter(virginica_centroids[:,0], virginica_centroids[:,1], c = 'green', marker='s', edgecolors='black')\n",
    "p.scatter(setosa_centroids[0], setosa_centroids[1], c = 'red', marker='s', edgecolors='black')\n",
    "p.scatter(versicolor_centroids[0], versicolor_centroids[1], c = 'blue', marker='s', edgecolors='black')\n",
    "p.scatter(virginica_centroids[0], virginica_centroids[1], c = 'green', marker='s', edgecolors='black')\n",
    "\n",
    "plt.xlabel('Sepal length')\n",
    "plt.ylabel('Sepal width')\n",
    "plt.grid()\n",
    "plt.legend(iris.target_names)\n",
    "\n",
    "plt.show()"
   ]
  },
  {
   "cell_type": "code",
   "execution_count": 6,
   "id": "62ff4d26",
   "metadata": {},
   "outputs": [],
   "source": [
    "setosa_cov     = np.cov(setosa_data[:,:2], rowvar=False) # np.array([setosa_data.cov(rowvar=False)])\n",
    "versicolor_cov = np.cov(versicolor_data[:,:2], rowvar=False) # np.array([versicolor_data.cov(rowvar=False)])\n",
    "virginica_cov  = np.cov(virginica_data[:,:2], rowvar=False) # np.array([virginica_data.cov(rowvar=False)])"
   ]
  },
  {
   "cell_type": "code",
   "execution_count": 7,
   "id": "735de9df",
   "metadata": {},
   "outputs": [],
   "source": [
    "class ConfidenceEllipse:\n",
    "    def __init__(self, data, p=0.95):\n",
    "        self.data = data\n",
    "        self.p = p\n",
    "\n",
    "        self.means = np.mean(data, axis=0)\n",
    "        self.cov = np.cov(data[:,0], data[:,1])\n",
    "\n",
    "        lambdas, vecs = np.linalg.eigh(self.cov)\n",
    "        order = lambdas.argsort()[::-1]\n",
    "        lambdas, vecs = lambdas[order], vecs[:,order]\n",
    "\n",
    "        c = np.sqrt(chi2.ppf(self.p, 2))\n",
    "        self.w, self.h = 2 * c * np.sqrt(lambdas)\n",
    "        self.theta = np.degrees(np.arctan(\n",
    "            ((lambdas[0] - lambdas[1])/self.cov[0,1])))\n",
    "        \n",
    "    def get_params(self):\n",
    "        return self.means, self.w, self.h, self.theta\n",
    "\n",
    "    def get_patch(self, line_color=\"black\", face_color=\"none\", alpha=0):\n",
    "        el = Ellipse(xy=self.means,\n",
    "                     width=self.w, height=self.h,\n",
    "                     angle=self.theta, color=line_color, alpha=alpha)\n",
    "        el.set_facecolor(face_color)\n",
    "        return el\n"
   ]
  },
  {
   "cell_type": "code",
   "execution_count": 8,
   "id": "8e357f06",
   "metadata": {},
   "outputs": [
    {
     "data": {
      "image/png": "[encoded data removed]",
      "text/plain": [
       "<Figure size 432x288 with 1 Axes>"
      ]
     },
     "metadata": {
      "needs_background": "light"
     },
     "output_type": "display_data"
    }
   ],
   "source": [
    "p = plt.subplot()\n",
    "\n",
    "p.scatter(setosa_data[:,0], setosa_data[:,1], color=\"red\", marker=\".\", s=3)\n",
    "setosa_el = ConfidenceEllipse(setosa_data, p=0.95)\n",
    "p.add_artist(setosa_el.get_patch(face_color=\"red\", alpha=0.5))\n",
    "p.scatter(versicolor_data[:,0], versicolor_data[:,1], color=\"blue\", marker=\".\", s=3)\n",
    "versicolor_el = ConfidenceEllipse(versicolor_data, p=0.95)\n",
    "p.add_artist(versicolor_el.get_patch(face_color=\"blue\", alpha=0.5))\n",
    "\n",
    "p.scatter(virginica_data[:,0], virginica_data[:,1], color=\"green\", marker=\".\", s=3)\n",
    "virginica_el = ConfidenceEllipse(virginica_data, p=0.95)\n",
    "p.add_artist(virginica_el.get_patch(face_color=\"green\", alpha=0.5))\n",
    "\n",
    "plt.xlabel('Sepal length')\n",
    "plt.ylabel('Sepal width')\n",
    "plt.grid()\n",
    "plt.legend(iris.target_names)\n",
    "\n",
    "plt.show()"
   ]
  },
  {
   "cell_type": "code",
   "execution_count": null,
   "id": "946fd2f2",
   "metadata": {},
   "outputs": [],
   "source": []
  },
  {
   "cell_type": "code",
   "execution_count": 9,
   "id": "bd851c66",
   "metadata": {},
   "outputs": [],
   "source": [
    "def calc(x, mu, sigma_inv, sigma_det):\n",
    "    D = x.shape[0]\n",
    "    exp = -0.5*(x - mu).T @ sigma_inv.T @ (x - mu)\n",
    "    denomin = np.sqrt(sigma_det)*(np.sqrt(2*np.pi)**D)\n",
    "    return np.exp(exp)/denomin\n",
    "\n",
    "def gauss(X, mu, sigma):\n",
    "    output = np.array([])\n",
    "    eps = np.spacing(1)\n",
    "    Eps = eps*np.eye(sigma.shape[0])\n",
    "    sigma_inv = la.inv(sigma)\n",
    "    sigma_det = la.det(sigma)\n",
    "    N = X.shape[0]\n",
    "    for i in range(N):\n",
    "        output = np.append(output, calc(X[i], mu, sigma_inv, sigma_det))\n",
    "    return output\n",
    "\n",
    "def mix_gauss(X, Mu, Sigma, Pi):\n",
    "    k = len(Mu)\n",
    "    output = np.array([Pi[i]*gauss(X, Mu[i], Sigma[i]) for i in range(k)])\n",
    "    return output, np.sum(output, 0)[None,:]\n",
    "\n",
    "def setInitial(X, k):\n",
    "    D = X.shape[1]\n",
    "    Mu = np.random.randn(k, D)\n",
    "    Sigma = np.array([np.eye(D) for i in range(k)])\n",
    "    Pi = np.array([1/k for i in range(k)])\n",
    "    return Mu, Sigma, Pi\n",
    "\n",
    "def log_likelihood(X, Mu, Sigma, Pi):\n",
    "    K = Mu.shape[0]\n",
    "    D = X.shape[1]\n",
    "    N = X.shape[0]\n",
    "    _, out_sum = mix_gauss(X, Mu, Sigma, Pi)\n",
    "    logs = np.array([np.log(out_sum[0][n]) for n in range(N)])\n",
    "    return np.sum(logs)\n",
    "\n",
    "def EM(X, k, Mu, Sigma, Pi, thr):\n",
    "    K = Mu.shape[0]\n",
    "    D = X.shape[1]\n",
    "    N = X.shape[0]\n",
    "    log_list = np.array([])\n",
    "    log_list = np.append(log_list, log_likelihood(X, Mu, Sigma, Pi))\n",
    "    count = 0\n",
    "    while True:\n",
    "        out_com, out_sum = mix_gauss(X, Mu, Sigma, Pi)\n",
    "        gamma = out_com / out_sum\n",
    "        N_k = np.sum(gamma, 1)[:,None]\n",
    "        Mu = (gamma @ X) / N_k    \n",
    "        sigma_list = np.zeros((N, K, D, D))\n",
    "        for k in range(K):\n",
    "            for n in range(N):\n",
    "                sigma_com = gamma[k][n]*(X[n] - Mu[k])[:,None]@((X[n] - Mu[k]))[None,:]\n",
    "                sigma_list[n][k] = sigma_com\n",
    "        Sigma = np.sum(sigma_list, 0) / N_k[:,None]\n",
    "        Pi = N_k/N\n",
    "        \n",
    "        log_list = np.append(log_list, log_likelihood(X, Mu, Sigma, Pi))\n",
    "        if np.abs(log_list[count] - log_list[count+1]) < thr:\n",
    "            return count+1, log_list, Mu, Sigma, Pi, gamma\n",
    "        else:\n",
    "            print(\"Previous log-likelihood gap:\" + str(np.abs(log_list[count] - log_list[count+1])))\n",
    "            count += 1"
   ]
  },
  {
   "cell_type": "code",
   "execution_count": 10,
   "id": "9e339c28",
   "metadata": {},
   "outputs": [
    {
     "name": "stdout",
     "output_type": "stream",
     "text": [
      "Previous log-likelihood gap:3206.2440819219055\n",
      "Previous log-likelihood gap:0.9790358075928225\n",
      "Previous log-likelihood gap:2.6398210248650003\n",
      "Previous log-likelihood gap:6.382895226628477\n",
      "Previous log-likelihood gap:8.84109224506966\n",
      "Previous log-likelihood gap:7.793360592287058\n",
      "Previous log-likelihood gap:5.225547921288978\n",
      "Previous log-likelihood gap:3.501173303992971\n",
      "Previous log-likelihood gap:2.664702889706348\n",
      "Previous log-likelihood gap:2.232683162421381\n",
      "Previous log-likelihood gap:1.9729232442726357\n",
      "Previous log-likelihood gap:1.6449457615141228\n",
      "Previous log-likelihood gap:1.2451877329733065\n",
      "Previous log-likelihood gap:0.9126654024784386\n",
      "Previous log-likelihood gap:0.6572726782274287\n",
      "Previous log-likelihood gap:0.45349848297485096\n",
      "Previous log-likelihood gap:0.2978341902198167\n",
      "Previous log-likelihood gap:0.19104385269270097\n",
      "Previous log-likelihood gap:0.12486580730165997\n",
      "Previous log-likelihood gap:0.0853657833013699\n",
      "Previous log-likelihood gap:0.060787721224471625\n",
      "Previous log-likelihood gap:0.04425637139286209\n",
      "Previous log-likelihood gap:0.03245060708843539\n",
      "Previous log-likelihood gap:0.02379735233540714\n",
      "Previous log-likelihood gap:0.017433382255944707\n",
      "Previous log-likelihood gap:0.012781790927988368\n",
      "Iteration:27\n",
      "log-likelihood:[-3476.3966212   -270.15253928  -269.17350347  -266.53368245\n",
      "  -260.15078722  -251.30969497  -243.51633438  -238.29078646\n",
      "  -234.78961316  -232.12491027  -229.8922271   -227.91930386\n",
      "  -226.2743581   -225.02917037  -224.11650496  -223.45923229\n",
      "  -223.0057338   -222.70789961  -222.51685576  -222.39198995\n",
      "  -222.30662417  -222.24583645  -222.20158008  -222.16912947\n",
      "  -222.14533212  -222.12789873  -222.11511694  -222.10570723]\n"
     ]
    }
   ],
   "source": [
    "thr = 0.01\n",
    "k = 3\n",
    "Mu, Sigma, Pi = setInitial(iris.data[:,:2], k)\n",
    "n_iter, log_list, Mu, Sigma, Pi, gamma = EM(iris.data[:,:2], k, Mu, Sigma, Pi, thr)\n",
    "print(\"Iteration:\"+str(n_iter))\n",
    "print(\"log-likelihood:\"+str(log_list))"
   ]
  },
  {
   "cell_type": "code",
   "execution_count": 11,
   "id": "b2cf99b9",
   "metadata": {},
   "outputs": [
    {
     "name": "stderr",
     "output_type": "stream",
     "text": [
      "/home/takkan/miniconda3/envs/speech_split/lib/python3.7/site-packages/ipykernel_launcher.py:1: VisibleDeprecationWarning: Creating an ndarray from ragged nested sequences (which is a list-or-tuple of lists-or-tuples-or ndarrays with different lengths or shapes) is deprecated. If you meant to do this, you must specify 'dtype=object' when creating the ndarray.\n",
      "  \"\"\"Entry point for launching an IPython kernel.\n"
     ]
    }
   ],
   "source": [
    "params = np.array([Mu.ravel(), Sigma.ravel(), Pi.ravel()])\n",
    "index = np.argmax(gamma, 0)"
   ]
  },
  {
   "cell_type": "code",
   "execution_count": 12,
   "id": "8f4f3eef",
   "metadata": {},
   "outputs": [
    {
     "data": {
      "image/png": "[encoded data removed]",
      "text/plain": [
       "<Figure size 432x288 with 1 Axes>"
      ]
     },
     "metadata": {
      "needs_background": "light"
     },
     "output_type": "display_data"
    }
   ],
   "source": [
    "color_dict = [\"red\", \"blue\", \"green\"]\n",
    "fig = plt.figure()\n",
    "N = iris.data[:,:2].shape[0]\n",
    "\n",
    "for n in range(N):\n",
    "    plt.plot([iris.data[:,:2][n][0]], [iris.data[:,:2][n][1]],  \"o\", color=color_dict[index[n]])\n",
    "\n",
    "plt.xlabel('Sepal length')\n",
    "plt.ylabel('Sepal width')\n",
    "plt.grid()\n",
    "plt.show()"
   ]
  },
  {
   "cell_type": "code",
   "execution_count": 13,
   "id": "d80cb553",
   "metadata": {},
   "outputs": [
    {
     "name": "stdout",
     "output_type": "stream",
     "text": [
      "[0 0 0 0 0 0 0 0 0 0 0 0 0 0 0 0 0 0 0 0 0 0 0 0 0 0 0 0 0 0 0 0 0 0 0 0 0\n",
      " 0 0 0 0 2 0 0 0 0 0 0 0 0 2 2 1 2 1 2 1 2 1 1 2 1 1 2 1 2 1 2 1 2 1 2 1 2\n",
      " 1 1 1 1 2 2 2 2 2 2 1 1 2 1 1 2 2 2 2 2 2 1 1 2 2 2 1 2 1 2 2 1 2 1 1 2 2\n",
      " 1 1 2 2 2 2 2 1 1 2 2 1 1 2 1 1 2 1 1 1 2 1 1 1 1 1 2 1 1 2 1 2 2 2 1 1 2\n",
      " 1 1]\n",
      "[0 0 0 0 0 0 0 0 0 0 0 0 0 0 0 0 0 0 0 0 0 0 0 0 0 0 0 0 0 0 0 0 0 0 0 0 0\n",
      " 0 0 0 0 0 0 0 0 0 0 0 0 0 1 1 1 1 1 1 1 1 1 1 1 1 1 1 1 1 1 1 1 1 1 1 1 1\n",
      " 1 1 1 1 1 1 1 1 1 1 1 1 1 1 1 1 1 1 1 1 1 1 1 1 1 1 2 2 2 2 2 2 2 2 2 2 2\n",
      " 2 2 2 2 2 2 2 2 2 2 2 2 2 2 2 2 2 2 2 2 2 2 2 2 2 2 2 2 2 2 2 2 2 2 2 2 2\n",
      " 2 2]\n"
     ]
    }
   ],
   "source": [
    "print(index)\n",
    "print(iris.target)"
   ]
  },
  {
   "cell_type": "code",
   "execution_count": null,
   "id": "75d15953",
   "metadata": {},
   "outputs": [],
   "source": []
  },
  {
   "cell_type": "code",
   "execution_count": 14,
   "id": "fbcf7b89",
   "metadata": {},
   "outputs": [],
   "source": [
    "# 描画範囲の設定 (最小値, 最大値, 分割数の順に)\n",
    "x, y = np.meshgrid(np.linspace(4, 8, 100), np.linspace(0, 5, 100))\n",
    "z = np.dstack((x, y))"
   ]
  },
  {
   "cell_type": "code",
   "execution_count": 15,
   "id": "aa7582e1",
   "metadata": {},
   "outputs": [],
   "source": [
    "# 二変量正規分布の構築\n",
    "setosa_pdf2 = multivariate_normal.pdf(z, setosa_centroids, setosa_cov) #範囲、平均、分散共分散の順\n",
    "versicolor_pdf2 = multivariate_normal.pdf(z, versicolor_centroids, versicolor_cov)\n",
    "virginica_pdf2 = multivariate_normal.pdf(z, virginica_centroids, virginica_cov)"
   ]
  },
  {
   "cell_type": "code",
   "execution_count": 16,
   "id": "92be7779",
   "metadata": {},
   "outputs": [
    {
     "name": "stderr",
     "output_type": "stream",
     "text": [
      "/home/takkan/miniconda3/envs/speech_split/lib/python3.7/site-packages/ipykernel_launcher.py:1: MatplotlibDeprecationWarning: shading='flat' when X and Y have the same dimensions as C is deprecated since 3.3.  Either specify the corners of the quadrilaterals with X and Y, or pass shading='auto', 'nearest' or 'gouraud', or set rcParams['pcolor.shading'].  This will become an error two minor releases later.\n",
      "  \"\"\"Entry point for launching an IPython kernel.\n"
     ]
    },
    {
     "data": {
      "image/png": "[encoded data removed]",
      "text/plain": [
       "<Figure size 432x288 with 2 Axes>"
      ]
     },
     "metadata": {
      "needs_background": "light"
     },
     "output_type": "display_data"
    },
    {
     "name": "stderr",
     "output_type": "stream",
     "text": [
      "/home/takkan/miniconda3/envs/speech_split/lib/python3.7/site-packages/ipykernel_launcher.py:7: MatplotlibDeprecationWarning: shading='flat' when X and Y have the same dimensions as C is deprecated since 3.3.  Either specify the corners of the quadrilaterals with X and Y, or pass shading='auto', 'nearest' or 'gouraud', or set rcParams['pcolor.shading'].  This will become an error two minor releases later.\n",
      "  import sys\n"
     ]
    },
    {
     "data": {
      "image/png": "[encoded data removed]",
      "text/plain": [
       "<Figure size 432x288 with 2 Axes>"
      ]
     },
     "metadata": {
      "needs_background": "light"
     },
     "output_type": "display_data"
    },
    {
     "name": "stderr",
     "output_type": "stream",
     "text": [
      "/home/takkan/miniconda3/envs/speech_split/lib/python3.7/site-packages/ipykernel_launcher.py:13: MatplotlibDeprecationWarning: shading='flat' when X and Y have the same dimensions as C is deprecated since 3.3.  Either specify the corners of the quadrilaterals with X and Y, or pass shading='auto', 'nearest' or 'gouraud', or set rcParams['pcolor.shading'].  This will become an error two minor releases later.\n",
      "  del sys.path[0]\n"
     ]
    },
    {
     "data": {
      "image/png": "[encoded data removed]",
      "text/plain": [
       "<Figure size 432x288 with 2 Axes>"
      ]
     },
     "metadata": {
      "needs_background": "light"
     },
     "output_type": "display_data"
    }
   ],
   "source": [
    "plt.pcolor(x, y, setosa_pdf2)\n",
    "plt.colorbar()\n",
    "plt.xlabel('Sepal length')\n",
    "plt.ylabel('Sepal width')\n",
    "plt.show()\n",
    "\n",
    "plt.pcolor(x, y, versicolor_pdf2)\n",
    "plt.colorbar()\n",
    "plt.xlabel('Sepal length')\n",
    "plt.ylabel('Sepal width')\n",
    "plt.show()\n",
    "\n",
    "plt.pcolor(x, y, virginica_pdf2)\n",
    "plt.colorbar()\n",
    "plt.xlabel('Sepal length')\n",
    "plt.ylabel('Sepal width')\n",
    "plt.show()"
   ]
  },
  {
   "cell_type": "code",
   "execution_count": null,
   "id": "d2837afa",
   "metadata": {},
   "outputs": [],
   "source": []
  }
 ],
 "metadata": {
  "kernelspec": {
   "display_name": "speech_split",
   "language": "python",
   "name": "speech_split"
  },
  "language_info": {
   "codemirror_mode": {
    "name": "ipython",
    "version": 3
   },
   "file_extension": ".py",
   "mimetype": "text/x-python",
   "name": "python",
   "nbconvert_exporter": "python",
   "pygments_lexer": "ipython3",
   "version": "3.7.10"
  }
 },
 "nbformat": 4,
 "nbformat_minor": 5
}
