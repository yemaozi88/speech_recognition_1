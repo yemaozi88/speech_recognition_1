{
 "cells": [
  {
   "cell_type": "code",
   "execution_count": 8,
   "metadata": {},
   "outputs": [],
   "source": [
    "import os\n",
    "import sys\n",
    "from random import random\n",
    "\n",
    "import numpy as np\n",
    "from numpy.random import rand\n",
    "import matplotlib.pyplot as plt"
   ]
  },
  {
   "cell_type": "code",
   "execution_count": 10,
   "metadata": {},
   "outputs": [
    {
     "data": {
      "image/png": "[encoded data removed]",
      "text/plain": [
       "<Figure size 432x288 with 1 Axes>"
      ]
     },
     "metadata": {
      "needs_background": "light"
     },
     "output_type": "display_data"
    }
   ],
   "source": [
    "def target_curve(x):\n",
    "    return 2* x**3 + 3* x**2 -1\n",
    "\n",
    "X = np.arange(-5, 5, 0.2)\n",
    "Y = [target_curve(x) for x in X]\n",
    "Y_ = Y + 200*rand(len(Y))\n",
    "\n",
    "plt.scatter(X, Y_)\n",
    "\n",
    "with open(('../data/regression_samples.txt'), 'w') as f:\n",
    "    for x, y_ in zip(X, Y_):\n",
    "        #print('{0:.4f}\\t{1:.4f}\\n'.format(x, y))\n",
    "        f.write('{0:.4f}\\t{1:.4f}\\n'.format(x, y_))"
   ]
  },
  {
   "cell_type": "code",
   "execution_count": null,
   "metadata": {},
   "outputs": [],
   "source": []
  }
 ],
 "metadata": {
  "kernelspec": {
   "display_name": "Python 3",
   "language": "python",
   "name": "python3"
  },
  "language_info": {
   "codemirror_mode": {
    "name": "ipython",
    "version": 3
   },
   "file_extension": ".py",
   "mimetype": "text/x-python",
   "name": "python",
   "nbconvert_exporter": "python",
   "pygments_lexer": "ipython3",
   "version": "3.8.5"
  }
 },
 "nbformat": 4,
 "nbformat_minor": 4
}
