{
 "cells": [
  {
   "cell_type": "markdown",
   "metadata": {},
   "source": [
    "## Curve fitting\n",
    "Through curve fitting exercise, you will understand the basics of regression."
   ]
  },
  {
   "cell_type": "code",
   "execution_count": 105,
   "metadata": {},
   "outputs": [],
   "source": [
    "import os\n",
    "\n",
    "import numpy as np\n",
    "import matplotlib.pyplot as plt\n",
    "\n",
    "import random\n",
    "\n",
    "import default_settings as default"
   ]
  },
  {
   "cell_type": "code",
   "execution_count": 106,
   "metadata": {},
   "outputs": [
    {
     "data": {
      "text/plain": [
       "<matplotlib.collections.PathCollection at 0x7ff3130e0e20>"
      ]
     },
     "execution_count": 106,
     "metadata": {},
     "output_type": "execute_result"
    },
    {
     "data": {
      "image/png": "[encoded data removed]",
      "text/plain": [
       "<Figure size 432x288 with 1 Axes>"
      ]
     },
     "metadata": {
      "needs_background": "light"
     },
     "output_type": "display_data"
    }
   ],
   "source": [
    "# load samples.\n",
    "with open('data/regression_samples.txt') as f:\n",
    "    lines = f.read().split('\\n')\n",
    "X = [float(line.split()[0]) for line in lines if len(line.split()) > 0]\n",
    "Y = [float(line.split()[1]) for line in lines if len(line.split()) > 0]\n",
    "\n",
    "X = np.array(X)\n",
    "Y = np.array(Y)\n",
    "# display the points.\n",
    "plt.scatter(X, Y)\n"
   ]
  },
  {
   "cell_type": "markdown",
   "metadata": {},
   "source": [
    "## problem description\n",
    "You will find a curve that fit the above scatter the best.   \n",
    "Let's assume the curve is described as: f(x, w) = a + b * x + c * x^2 + d * x^3.  \n",
    "Your task is to find w = [a, b, c, d].   \n",
    "  \n",
    "Here is our approach.  \n",
    "\n",
    "1. Initialize w with some numbers.\n",
    "2. Calculate how good f(x, w) fits the scatters by defining the cost function. For now, cost function is the root mean square error devided by the number of points. \n",
    "3. Update w using gradient descent, until the cost becomes small enough. "
   ]
  },
  {
   "cell_type": "code",
   "execution_count": 221,
   "metadata": {},
   "outputs": [
    {
     "data": {
      "image/png": "[encoded data removed]",
      "text/plain": [
       "<Figure size 432x288 with 1 Axes>"
      ]
     },
     "metadata": {
      "needs_background": "light"
     },
     "output_type": "display_data"
    }
   ],
   "source": [
    "# initilize w.\n",
    "w = [1, 1, 1, 1]\n",
    "\n",
    "# define function. \n",
    "def f_(x, w):\n",
    "    ### WRITE YOUR OWN CODES ### \n",
    "    #y = w[0] + w[1] * x + w[2] * np.power(x,2) + w[3] * np.power(x,3)\n",
    "    y = w[0] + w[1] * x + w[2] * x ** 2 + w[3] * x ** 3\n",
    "    \n",
    "    return y\n",
    "\n",
    "\n",
    "# calculate predictions y\n",
    "Y_predict = f_(X, w)\n",
    "# display the points.\n",
    "plt.plot(X,Y_predict,'r-')\n",
    "plt.plot(X,Y,'b.')\n",
    "plt.show()\n"
   ]
  },
  {
   "cell_type": "code",
   "execution_count": 108,
   "metadata": {},
   "outputs": [],
   "source": [
    "# define cost function.\n",
    "def cost_function(w, X, Y):\n",
    "    ### WRITE YOUR OWN CODES ### \n",
    "    m = len(Y)\n",
    "    \n",
    "    Y_predict = f_(X, w)\n",
    "    cost = (1/(2*m)) * np.sum(np.square(Y_predict-Y))\n",
    "    \n",
    "    return cost\n"
   ]
  },
  {
   "cell_type": "markdown",
   "metadata": {},
   "source": [
    "## Hint: Gredient descent.\n",
    "To make the situation easier, let's update w only once.   \n",
    "Let's denote cost_function as J(w, X, Y) = 1/(2m) * (Y_pred - Y)^2.  \n",
    "In Gredient descient, update w as w- learning_rate * dJ/dw (partial derivative).  \n",
    "dJ/dw = (Y_pred - Y)/m * d(Y_pred - Y)/dw  \n",
    "\n",
    "in our case y = w[0] + w[1] * x + w[2] * x ** 2 + w[3] * x ** 3, therefore:  \n",
    "- dJ[0] = (Y_predict - Y)/m\n",
    "- dJ[1] = (Y_predict - Y)/m * x\n",
    "- dJ[2] = (Y_predict - Y)/m * x**2\n",
    "- dJ[3] = (Y_predict - Y)/m * x**3\n",
    "\n",
    "Reference: \n",
    "- https://mathwords.net/saikyukouka\n",
    "- https://qiita.com/Takayoshi_Makabe/items/ee467313c38b1879c097"
   ]
  },
  {
   "cell_type": "code",
   "execution_count": 281,
   "metadata": {},
   "outputs": [],
   "source": [
    "def update_w1(w, X, Y, learning_rate = 0.001):\n",
    "    m = len(Y)\n",
    "    # updated w.\n",
    "    #w_ = w.copy()\n",
    "    w_ = np.copy(np.array(w))\n",
    "    \n",
    "    ### WRITE YOUR OWN CODES: BEGIN ### \n",
    "    Y_predict = f_(X, w)\n",
    "    error = Y_predict - Y\n",
    "    w_[0] = w[0] - learning_rate /m * np.sum(error)\n",
    "    w_[1] = w[1] - learning_rate /m * np.dot(X.T, error)\n",
    "    w_[2] = w[2] - learning_rate /m * np.dot((X**2).T, error)\n",
    "    w_[3] = w[3] - learning_rate /m * np.dot((X**3).T, error)\n",
    "    ### WRITE YOUR OWN CODES: END ### \n",
    "    \n",
    "    return w_\n",
    "\n",
    "# gradient descent loop.\n",
    "def gradient_descent(w0, X, Y, learning_rate = 0.001, n_iter = 100):\n",
    "    # initialize w.\n",
    "    #w = [1, 1, 1, 1]\n",
    "    \n",
    "    J_history = []\n",
    "    w_history = []\n",
    "    w = np.array(w0.copy())\n",
    "    for i in range(n_iter):\n",
    "        w_ = update_w1(w, X, Y, learning_rate = learning_rate)\n",
    "        J_history.append(cost_function(w_, X, Y))\n",
    "        w_history.append(w_)\n",
    "        w = np.copy(w_)\n",
    "        \n",
    "    return w_history, J_history"
   ]
  },
  {
   "cell_type": "code",
   "execution_count": 274,
   "metadata": {},
   "outputs": [
    {
     "data": {
      "image/png": "[encoded data removed]",
      "text/plain": [
       "<Figure size 432x288 with 1 Axes>"
      ]
     },
     "metadata": {
      "needs_background": "light"
     },
     "output_type": "display_data"
    }
   ],
   "source": [
    "w = [0, 0, 0, 0]\n",
    "w_ = update_w1(w, X, Y, learning_rate = 0.001)\n",
    "Y_predict = f_(X, w_)\n",
    "# display the points.\n",
    "plt.plot(X,Y_predict,'r-')\n",
    "plt.plot(X,Y,'b.')\n",
    "plt.show()"
   ]
  },
  {
   "cell_type": "code",
   "execution_count": 295,
   "metadata": {},
   "outputs": [
    {
     "data": {
      "text/plain": [
       "4"
      ]
     },
     "execution_count": 295,
     "metadata": {},
     "output_type": "execute_result"
    },
    {
     "data": {
      "image/png": "[encoded data removed]",
      "text/plain": [
       "<Figure size 432x288 with 1 Axes>"
      ]
     },
     "metadata": {
      "needs_background": "light"
     },
     "output_type": "display_data"
    }
   ],
   "source": [
    "w = np.ones(4)\n",
    "w_history, J_history = gradient_descent(w, X, Y, learning_rate = 0.001, n_iter = 10)\n",
    "plt.plot(J_history)\n",
    "np.argmin(J_history)"
   ]
  },
  {
   "cell_type": "code",
   "execution_count": 286,
   "metadata": {},
   "outputs": [
    {
     "name": "stdout",
     "output_type": "stream",
     "text": [
      "[1.4610264  1.05899104 5.15386147 2.35213664]\n"
     ]
    },
    {
     "data": {
      "image/png": "[encoded data removed]",
      "text/plain": [
       "<Figure size 432x288 with 1 Axes>"
      ]
     },
     "metadata": {
      "needs_background": "light"
     },
     "output_type": "display_data"
    }
   ],
   "source": [
    "# get the min value of J.\n",
    "w_best = w_history[np.argmin(J_history)]\n",
    "print(w_best)\n",
    "\n",
    "Y_pred = F_(X, w_best)\n",
    "\n",
    "plt.plot(X, Y_pred, 'r-')\n",
    "plt.plot(X, Y, 'b.')\n",
    "plt.show()"
   ]
  },
  {
   "cell_type": "code",
   "execution_count": 120,
   "metadata": {},
   "outputs": [],
   "source": [
    "Y_pred\n"
   ]
  }
 ],
 "metadata": {
  "kernelspec": {
   "display_name": "Python 3",
   "language": "python",
   "name": "python3"
  },
  "language_info": {
   "codemirror_mode": {
    "name": "ipython",
    "version": 3
   },
   "file_extension": ".py",
   "mimetype": "text/x-python",
   "name": "python",
   "nbconvert_exporter": "python",
   "pygments_lexer": "ipython3",
   "version": "3.8.5"
  }
 },
 "nbformat": 4,
 "nbformat_minor": 4
}
