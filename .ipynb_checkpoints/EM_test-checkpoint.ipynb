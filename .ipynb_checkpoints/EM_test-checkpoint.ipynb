{
 "cells": [
  {
   "cell_type": "code",
   "execution_count": 1,
   "id": "4f1d1a71",
   "metadata": {},
   "outputs": [
    {
     "name": "stderr",
     "output_type": "stream",
     "text": [
      "/home/takkan/miniconda3/envs/speech_split/lib/python3.7/site-packages/seaborn/distributions.py:2619: FutureWarning: `distplot` is a deprecated function and will be removed in a future version. Please adapt your code to use either `displot` (a figure-level function with similar flexibility) or `histplot` (an axes-level function for histograms).\n",
      "  warnings.warn(msg, FutureWarning)\n"
     ]
    },
    {
     "data": {
      "text/plain": [
       "Text(0.5, 1.0, 'Gaussian Mixture Model')"
      ]
     },
     "execution_count": 1,
     "metadata": {},
     "output_type": "execute_result"
    },
    {
     "data": {
      "image/png": "[encoded data removed]",
      "text/plain": [
       "<Figure size 432x288 with 1 Axes>"
      ]
     },
     "metadata": {
      "needs_background": "light"
     },
     "output_type": "display_data"
    }
   ],
   "source": [
    "import numpy as np\n",
    "import matplotlib.pyplot as plt\n",
    "import seaborn as sns\n",
    "\n",
    "#x1 = np.random.normal(loc=0.5, scale=1 , size =100).reshape(-1,1)\n",
    "#x2 = np.random.normal(loc=10, scale=2 , size =100).reshape(-1,1)\n",
    "#x3 = np.random.normal(loc=0, scale=3 , size =100).reshape(-1,1)\n",
    "#x = np.concatenate([x1 , x2 , x3])\n",
    "\n",
    "from sklearn.datasets import load_iris\n",
    "from sklearn.decomposition import PCA\n",
    "iris = load_iris()\n",
    "pca = PCA(n_components=1)\n",
    "iris_data = pca.fit_transform(iris.data)\n",
    "sns.distplot( iris_data )\n",
    "plt.title(\"Gaussian Mixture Model\")"
   ]
  },
  {
   "cell_type": "code",
   "execution_count": 2,
   "id": "3cb7c184",
   "metadata": {},
   "outputs": [
    {
     "data": {
      "image/png": "[encoded data removed]",
      "text/plain": [
       "<Figure size 432x288 with 1 Axes>"
      ]
     },
     "metadata": {
      "needs_background": "light"
     },
     "output_type": "display_data"
    }
   ],
   "source": [
    "p = plt.subplot()\n",
    "p.scatter(iris_data, [0 for i in range(len(iris_data))])\n",
    "plt.show()"
   ]
  },
  {
   "cell_type": "code",
   "execution_count": 3,
   "id": "177d16ea",
   "metadata": {},
   "outputs": [],
   "source": [
    "def Gaus(x,m, s): #正規分布の値を取得\n",
    "    g = np.exp( - pow((x-m), 2) /(2*s) )/np.sqrt(2*np.pi * s )\n",
    "    return g\n",
    " \n",
    "    \n",
    "def calc_gamma(x, pi, mu, sig): #事後分布の計算\n",
    "    gam = pi*Gaus(x,mu,sig)\n",
    "    gam/= np.sum(gam, axis=1).reshape(len(x),1)\n",
    "    return gam\n",
    " \n",
    "    \n",
    "def update_parmas(gamma, x, pi, mu, sig): #パラメーターの更新式\n",
    "    N_k = np.sum(gamma, axis=0)\n",
    "    N = np.sum(N_k)\n",
    "    mu_k = np.sum(x*gamma, axis=0 ) /N_k\n",
    "    sig_k = np.sum(gamma* pow(x-mu, 2), axis=0) /N_k\n",
    "    pi_k = N_k/N\n",
    "    return pi_k , mu_k, sig_k\n",
    " \n",
    "    \n",
    "def iteration(x,mu,sig,pi, I=100, e=0.01): #ε以下になるか、100回計算するまで尤度を更新する関数\n",
    "    LF=0   \n",
    "    for i in range(I):\n",
    "        gamma = calc_gamma(x, pi, mu, sig)\n",
    "        LF_new =np.sum(np.log(np.sum(pi*Gaus(x,mu,sig),axis=1 )) )\n",
    "        ch = LF_new - LF\n",
    "        print(\"LF ={} . change = {}\".format(LF_new, ch))\n",
    "        if np.abs(ch) < e:\n",
    "            print(\"Iteration is finished {} iter. \".format(i+1))\n",
    "            break\n",
    "        LF=LF_new\n",
    "        pi, mu, sig = update_parmas(gamma, x, pi, mu, sig)\n",
    " \n",
    "    return pi, mu, sig\n"
   ]
  },
  {
   "cell_type": "code",
   "execution_count": 4,
   "id": "1c0c1bc7",
   "metadata": {},
   "outputs": [
    {
     "name": "stdout",
     "output_type": "stream",
     "text": [
      "LF =-476.9985200711239 . change = -476.9985200711239\n",
      "LF =-349.8120227460741 . change = 127.1864973250498\n",
      "LF =-321.0575094561525 . change = 28.75451328992159\n",
      "LF =-319.7278895522707 . change = 1.3296199038817917\n",
      "LF =-318.82872913143035 . change = 0.8991604208403601\n",
      "LF =-317.04741750528945 . change = 1.781311626140905\n",
      "LF =-313.5296465717122 . change = 3.5177709335772533\n",
      "LF =-309.9167759655495 . change = 3.612870606162687\n",
      "LF =-308.1391616996031 . change = 1.7776142659463972\n",
      "LF =-307.19983475725746 . change = 0.9393269423456445\n",
      "LF =-306.5058626975765 . change = 0.6939720596809593\n",
      "LF =-305.8508660806946 . change = 0.654996616881931\n",
      "LF =-305.162281191023 . change = 0.6885848896715743\n",
      "LF =-304.4031219590074 . change = 0.7591592320155769\n",
      "LF =-303.5353021044715 . change = 0.8678198545359237\n",
      "LF =-302.5040448476029 . change = 1.031257256868571\n",
      "LF =-301.2249615370518 . change = 1.2790833105511297\n",
      "LF =-299.56203553168723 . change = 1.662926005364568\n",
      "LF =-297.2777180367148 . change = 2.284317494972413\n",
      "LF =-293.90295593578435 . change = 3.374762100930468\n",
      "LF =-288.37664180017265 . change = 5.526314135611699\n",
      "LF =-278.2348364296634 . change = 10.141805370509246\n",
      "LF =-259.3373921115945 . change = 18.897444318068892\n",
      "LF =-235.97595932680508 . change = 23.36143278478943\n",
      "LF =-234.31520809701135 . change = 1.660751229793732\n",
      "LF =-234.31409567619673 . change = 0.0011124208146213732\n",
      "Iteration is finished 26 iter. \n"
     ]
    }
   ],
   "source": [
    "mu =np.array([0,10,3])\n",
    "sig=np.array([1, 5, 10])\n",
    "pi=np.array([0.1,0.4, 0.5])\n",
    "pi, mu, sig = iteration(iris_data, mu, sig, pi, I=100)"
   ]
  },
  {
   "cell_type": "code",
   "execution_count": 5,
   "id": "ee5ad23c",
   "metadata": {},
   "outputs": [
    {
     "name": "stdout",
     "output_type": "stream",
     "text": [
      "[6.66872460e-01 7.84536427e-05 3.33049086e-01] [ 1.31981755 -0.34779941 -2.64262154] [1.02193544 1.40856771 0.21903076]\n"
     ]
    }
   ],
   "source": [
    "print(pi, mu, np.sqrt(sig) )"
   ]
  },
  {
   "cell_type": "code",
   "execution_count": 6,
   "id": "96a630d6",
   "metadata": {},
   "outputs": [
    {
     "name": "stderr",
     "output_type": "stream",
     "text": [
      "/home/takkan/miniconda3/envs/speech_split/lib/python3.7/site-packages/seaborn/distributions.py:2619: FutureWarning: `distplot` is a deprecated function and will be removed in a future version. Please adapt your code to use either `displot` (a figure-level function with similar flexibility) or `histplot` (an axes-level function for histograms).\n",
      "  warnings.warn(msg, FutureWarning)\n"
     ]
    },
    {
     "data": {
      "text/plain": [
       "Text(0.5, 1.0, 'Predicted GMM')"
      ]
     },
     "execution_count": 6,
     "metadata": {},
     "output_type": "execute_result"
    },
    {
     "data": {
      "image/png": "[encoded data removed]",
      "text/plain": [
       "<Figure size 432x288 with 1 Axes>"
      ]
     },
     "metadata": {
      "needs_background": "light"
     },
     "output_type": "display_data"
    }
   ],
   "source": [
    "y0 = np.random.normal(loc=mu[0], scale=np.sqrt(sig)[0] , size =int(300*pi[0]) ).reshape(-1,1)\n",
    "y1 = np.random.normal(loc=mu[1], scale=np.sqrt(sig)[1] , size =int(300*pi[1]) ).reshape(-1,1)\n",
    "y2 = np.random.normal(loc=mu[2], scale=np.sqrt(sig)[2] , size =int(300*pi[2]) ).reshape(-1,1)\n",
    "y=np.concatenate([y0, y1, y2])\n",
    "sns.distplot(y)\n",
    "plt.title(\"Predicted GMM\")"
   ]
  },
  {
   "cell_type": "code",
   "execution_count": null,
   "id": "b9b9318e",
   "metadata": {},
   "outputs": [],
   "source": []
  }
 ],
 "metadata": {
  "kernelspec": {
   "display_name": "speech_split",
   "language": "python",
   "name": "speech_split"
  },
  "language_info": {
   "codemirror_mode": {
    "name": "ipython",
    "version": 3
   },
   "file_extension": ".py",
   "mimetype": "text/x-python",
   "name": "python",
   "nbconvert_exporter": "python",
   "pygments_lexer": "ipython3",
   "version": "3.7.10"
  }
 },
 "nbformat": 4,
 "nbformat_minor": 5
}
