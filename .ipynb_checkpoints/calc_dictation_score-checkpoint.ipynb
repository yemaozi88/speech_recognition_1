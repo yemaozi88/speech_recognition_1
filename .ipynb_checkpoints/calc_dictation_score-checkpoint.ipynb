{
 "cells": [
  {
   "cell_type": "markdown",
   "id": "greatest-royalty",
   "metadata": {},
   "source": [
    "# Existing function"
   ]
  },
  {
   "cell_type": "code",
   "execution_count": 1,
   "id": "computational-modern",
   "metadata": {},
   "outputs": [
    {
     "name": "stdout",
     "output_type": "stream",
     "text": [
      "2\n"
     ]
    }
   ],
   "source": [
    "import Levenshtein\n",
    "\n",
    "# use strings\n",
    "answer_txt = 'kaneda'\n",
    "student_txt = 'caneeda'\n",
    "\n",
    "print(Levenshtein.distance(answer_txt, student_txt))"
   ]
  },
  {
   "cell_type": "markdown",
   "id": "connected-clark",
   "metadata": {},
   "source": [
    "# Implementation function of Levenshtein Distance"
   ]
  },
  {
   "cell_type": "code",
   "execution_count": 2,
   "id": "familiar-istanbul",
   "metadata": {},
   "outputs": [],
   "source": [
    "def levenshteinDistance(answer, student):\n",
    "    '''\n",
    "    asnwer, student (string): answer to the dictation. \n",
    "    '''\n",
    "    # If one is empty, the length of the other is the distance\n",
    "    if answer == \"\":\n",
    "        return len(student)\n",
    "    if student == \"\":\n",
    "        return len(answer)\n",
    "    \n",
    "    # If the first character matches, the distance required for the second and subsequent characters\n",
    "    if answer[0] == student[0]:\n",
    "        return levenshteinDistance(answer[1:], student[1:])\n",
    "    \n",
    "    # If the first character does not match\n",
    "    # Insert\n",
    "    insert_cost = levenshteinDistance(answer[1:], student[:])\n",
    "    \n",
    "    # Delete\n",
    "    delete_cost = levenshteinDistance(answer[:], student[1:])\n",
    "    \n",
    "    # Replace\n",
    "    replace_cost = levenshteinDistance(answer[1:], student[1:])\n",
    "    \n",
    "    # (1, first character of Insert/Delete/Replace cost) + (Minimum cost of the remaining characters)\n",
    "    return 1 + min(insert_cost, delete_cost, replace_cost)\n",
    "    "
   ]
  },
  {
   "cell_type": "code",
   "execution_count": 3,
   "id": "linear-costa",
   "metadata": {},
   "outputs": [
    {
     "name": "stdout",
     "output_type": "stream",
     "text": [
      "2\n"
     ]
    }
   ],
   "source": [
    "# use strings\n",
    "answer_txt = 'kaneda'\n",
    "student_txt = 'caneeda'\n",
    "\n",
    "score = levenshteinDistance(answer_txt, student_txt)\n",
    "print(score)"
   ]
  },
  {
   "cell_type": "markdown",
   "id": "molecular-manner",
   "metadata": {},
   "source": [
    "# Implementation function of Levenshtein Distance and index correnspondence"
   ]
  },
  {
   "cell_type": "code",
   "execution_count": 15,
   "id": "boxed-enforcement",
   "metadata": {},
   "outputs": [],
   "source": [
    "def levenshteinDistance2(answer, student):\n",
    "    '''\n",
    "    asnwer, student (string): answer to the dictation. \n",
    "    '''\n",
    "    # If student_string match answer_string, 0 is the distance\n",
    "    if answer == student:\n",
    "        return 0\n",
    "    len_answer = len(answer)\n",
    "    len_student = len(student)\n",
    "    \n",
    "    # If one is empty, the length of the other is the distance\n",
    "    if answer == \"\":\n",
    "        return len_student\n",
    "    if student == \"\":\n",
    "        return len_answer\n",
    "\n",
    "    # Store the correct student string in an array\n",
    "    matrix = [[] for i in range(len_student+1)]\n",
    "\n",
    "    # Array initialization\n",
    "    for i in range(len_student+1):\n",
    "        matrix[i] = [0 for j in range(len_answer+1)]\n",
    "    \n",
    "    # Set the initial value of index0 of the array\n",
    "    for i in range(len_student+1):\n",
    "        matrix[i][0] = i\n",
    "    for j in range(len_answer+1):\n",
    "        matrix[0][j] = j\n",
    "            \n",
    "    # Calculate table values\n",
    "    for i in range(1, len_student+1):\n",
    "        stu_char = student[i-1]\n",
    "        for j in range(1, len_answer+1):\n",
    "            ans_char = answer[j-1]\n",
    "            cost = 0 if (stu_char == ans_char) else 1\n",
    "            matrix[i][j] = min([\n",
    "                matrix[i-1][j] + 1,\n",
    "                matrix[i][j-1] + 1,\n",
    "                matrix[i-1][j-1] + cost\n",
    "            ])\n",
    "    \n",
    "    # Get the distance between each character of student and each character of student\n",
    "    dist_num_list = []\n",
    "    for matrix_data in matrix[1:]:\n",
    "        dist_num_list.append(matrix_data[1:])\n",
    "    \n",
    "    correnspondence = []\n",
    "    for x in dist_num_list:\n",
    "        correnspondence.append(x.index(min(x[:])))\n",
    "    return matrix[len_student][len_answer], correnspondence\n",
    "    "
   ]
  },
  {
   "cell_type": "code",
   "execution_count": 16,
   "id": "sensitive-shelter",
   "metadata": {},
   "outputs": [
    {
     "name": "stdout",
     "output_type": "stream",
     "text": [
      "4 [0, 1, 2, 2, 4, 3, 3, 5]\n"
     ]
    }
   ],
   "source": [
    "# use strings\n",
    "answer_txt = 'kaneda'\n",
    "student_txt = 'canndesa'\n",
    "\n",
    "score, correnspondence = levenshteinDistance2(answer_txt, student_txt)\n",
    "print(score, correnspondence)"
   ]
  },
  {
   "cell_type": "code",
   "execution_count": null,
   "id": "marine-hygiene",
   "metadata": {},
   "outputs": [],
   "source": []
  }
 ],
 "metadata": {
  "kernelspec": {
   "display_name": "iMetricGAN",
   "language": "python",
   "name": "imetricgan"
  },
  "language_info": {
   "codemirror_mode": {
    "name": "ipython",
    "version": 3
   },
   "file_extension": ".py",
   "mimetype": "text/x-python",
   "name": "python",
   "nbconvert_exporter": "python",
   "pygments_lexer": "ipython3",
   "version": "3.7.9"
  }
 },
 "nbformat": 4,
 "nbformat_minor": 5
}
