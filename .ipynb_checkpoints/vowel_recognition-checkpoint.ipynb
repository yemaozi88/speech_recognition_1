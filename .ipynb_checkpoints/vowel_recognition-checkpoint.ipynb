{
 "cells": [
  {
   "cell_type": "code",
   "execution_count": 1,
   "metadata": {},
   "outputs": [],
   "source": [
    "import os\n",
    "\n",
    "import matplotlib.pyplot as plt\n",
    "\n",
    "import librosa\n",
    "import scipy\n",
    "import scipy.signal as sig\n",
    "import scipy.io.wavfile as scw\n",
    "\n",
    "import numpy as np\n",
    "\n",
    "import wave\n",
    "import cmath as cm\n",
    "import math\n",
    "\n",
    "import default_settings\n"
   ]
  },
  {
   "cell_type": "markdown",
   "metadata": {},
   "source": [
    "# preparation : define extract_feature."
   ]
  },
  {
   "cell_type": "code",
   "execution_count": 2,
   "metadata": {},
   "outputs": [],
   "source": [
    "def levinson(signal, order):\n",
    "    x = signal\n",
    "    p = order\n",
    "    autocorr = np.correlate(x,x,mode='full')\n",
    "    r = autocorr[len(x)-1:len(x)+p]\n",
    "\n",
    "    a = np.zeros(p+1)\n",
    "    k = np.zeros(p)\n",
    "    a[0] = 1\n",
    "    a[1] = -r[1] / r[0]\n",
    "    k[0] = a[1]\n",
    "    E = r[0] + r[1] * a[1]\n",
    "    for q in range(1,p):\n",
    "        k[q] = -np.sum(a[0:q+1] * r[q+1:0:-1]) / E\n",
    "        U = a[0:q+2]\n",
    "        V = U[::-1]\n",
    "        a[0:q+2] = U + k[q] * V\n",
    "        E *= 1-k[q] * k[q]\n",
    "\n",
    "    return a, k\n",
    "\n",
    "\n",
    "def preEmphasis(signal, p):\n",
    "    \"\"\"プリエンファシスフィルタ\"\"\"\n",
    "    # 係数 (1.0, -p) のFIRフィルタを作成\n",
    "    return sig.lfilter([1.0, -p], 1, signal)\n",
    "\n",
    "\n",
    "def autocorr(x, nlags=None):\n",
    "    N = len(x)\n",
    "    if nlags == None: nlags = N\n",
    "    r = np.zeros(nlags)\n",
    "    for lag in range(nlags):\n",
    "        for n in range(N - lag):\n",
    "            r[lag] += x[n] * x[n + lag]\n",
    "    return r"
   ]
  },
  {
   "cell_type": "code",
   "execution_count": 3,
   "metadata": {},
   "outputs": [],
   "source": [
    "def FFT(x):\n",
    "    N = x.shape[0]\n",
    "    \n",
    "    # Recursive processing end confirmation\n",
    "    if N==1:\n",
    "        return x[0]\n",
    "    \n",
    "    x_even = x[0:N:2]\n",
    "    x_odd = x[1:N:2]\n",
    "    \n",
    "    # Recursive processing\n",
    "    X_even = FFT(x_even)\n",
    "    X_odd = FFT(x_odd)\n",
    "    \n",
    "    # weight\n",
    "    W = []\n",
    "    for t in range(N//2):\n",
    "        W.append(np.exp(-1j * ((2*np.pi*t) / N)))\n",
    "    W = np.array(W)\n",
    "    \n",
    "    X = np.zeros(N, dtype=\"complex\")\n",
    "    X[0:N//2] = X_even + W*X_odd\n",
    "    X[N//2:N] = X_even - W*X_odd\n",
    "    \n",
    "    return X\n",
    "\n",
    "\n",
    "def IFFT(X):\n",
    "    N = X.shape[0]\n",
    "    X = X.conjugate()\n",
    "    x = FFT(X)\n",
    "    return (1/N) * x.conjugate()\n"
   ]
  },
  {
   "cell_type": "code",
   "execution_count": 4,
   "metadata": {},
   "outputs": [],
   "source": [
    "def extract_formant(x, deg, fs=22050):\n",
    "    a, k = levinson(x,deg)\n",
    "    \n",
    "    w, h = sig.freqz(1, a)\n",
    "    #fig = plt.figure()\n",
    "    #ax = fig.add_subplot(111)\n",
    "    #ax.plot(fs * w / 2.0 / np.pi, 20 * np.log10(np.abs(h)))\n",
    "    #ax.set_xlabel('frequency [Hz]')\n",
    "    #ax.set_ylabel('$1 / |A(e^{j\\omega})|$ [dB]')\n",
    "    #plt.show()\n",
    "    \n",
    "    poles = np.roots(a)\n",
    "    intns = np.abs(poles)\n",
    "    ff = np.angle(poles) * fs / 2.0 / np.pi\n",
    "    formantfreq = ff[(ff > 10) & (ff < fs / 2.0 - 10) & (intns > 0.8)]\n",
    "\n",
    "    return formantfreq\n",
    "\n",
    "def extract_cepstrum(x, deg, fs=22050):\n",
    "    fft_data_ori = FFT(x)\n",
    "    freq_ori = np.arange(len(fft_data_ori)) * fs / len(fft_data_ori)\n",
    "    pow_spec = np.log10(np.real(np.abs(fft_data_ori)**2))\n",
    "    cep = IFFT(pow_spec)\n",
    "    return cep[:deg]\n",
    "\n",
    "def extract_mfcc(x, deg, fs=22050):\n",
    "    if len(x) <= 2048:\n",
    "        mfcc = librosa.feature.mfcc(y=x, sr=fs ,n_mfcc=deg, n_fft=len(x))\n",
    "    else:\n",
    "        mfcc = librosa.feature.mfcc(y=x, sr=fs ,n_mfcc=deg)\n",
    "    return mfcc\n"
   ]
  },
  {
   "cell_type": "code",
   "execution_count": 5,
   "metadata": {
    "scrolled": true
   },
   "outputs": [
    {
     "name": "stderr",
     "output_type": "stream",
     "text": [
      "<ipython-input-4-0459d68ceb4a>:22: RuntimeWarning: divide by zero encountered in log10\n",
      "  pow_spec = np.log10(np.real(np.abs(fft_data_ori)**2))\n",
      "<ipython-input-3-30e5bb3a8320>:22: RuntimeWarning: invalid value encountered in multiply\n",
      "  X[0:N//2] = X_even + W*X_odd\n",
      "<ipython-input-3-30e5bb3a8320>:23: RuntimeWarning: invalid value encountered in multiply\n",
      "  X[N//2:N] = X_even - W*X_odd\n",
      "<ipython-input-3-30e5bb3a8320>:23: RuntimeWarning: invalid value encountered in subtract\n",
      "  X[N//2:N] = X_even - W*X_odd\n"
     ]
    }
   ],
   "source": [
    "speech_sample_dir = os.path.join(default_settings.audio_corpora_dir, 'vowel')\n",
    "#output_features_dir = os.path.join(default_settings.audio_corpora_dir, 'features')\n",
    "wav_files = os.listdir(speech_sample_dir)\n",
    "\n",
    "# formant data\n",
    "X = []\n",
    "# label data\n",
    "Y = []\n",
    "\n",
    "for wav_file in wav_files:\n",
    "    basename_without_ext = os.path.splitext(os.path.basename(wav_file))[0]\n",
    "    label = basename_without_ext.split('_')[0]\n",
    "    #fmt_file = os.path.join(output_features_dir, basename_without_ext + '.fmt')\n",
    "    #cep_file = os.path.join(output_features_dir, basename_without_ext + '.cep')\n",
    "    #mfcc_file = os.path.join(output_features_dir, basename_without_ext + '.mfcc')\n",
    "    \n",
    "    sampling_rate, sample_data = scw.read(os.path.join(speech_sample_dir, wav_file))\n",
    "    sample_data = sample_data / 32768\n",
    "    \n",
    "    return_formant = extract_formant(sample_data, 12, sampling_rate)\n",
    "    return_cep = extract_cepstrum(sample_data[:512], 20, sampling_rate)\n",
    "    return_mfcc = extract_mfcc(sample_data, 20, sampling_rate)\n",
    "    \n",
    "    #np.save(fmt_file, return_formant)\n",
    "    #np.save(cep_file, return_cep)\n",
    "    #np.save(mfcc_file, return_mfcc)\n",
    "    \n",
    "    X.append(return_formant[:2])\n",
    "    Y.append(label)\n",
    "    "
   ]
  },
  {
   "cell_type": "markdown",
   "metadata": {},
   "source": [
    "## speaker recognition"
   ]
  },
  {
   "cell_type": "code",
   "execution_count": 6,
   "metadata": {},
   "outputs": [
    {
     "name": "stdout",
     "output_type": "stream",
     "text": [
      "[7184.98181506 1058.80321844] a\n",
      "[7475.61294175 6203.61750039] u\n",
      "[7285.47373531 6397.56536644] o\n",
      "[7532.36078147 6215.77122102] i\n",
      "[6806.212352    359.04444981] e\n",
      "[7303.02409173 4253.29764658] o\n",
      "[7222.72072819 4119.38218267] a\n",
      "[7483.29297215 6092.69937664] i\n",
      "[6650.43320778 4102.42478121] e\n",
      "[ 345.14751642 1058.4689791 ] a\n",
      "[7477.97526234 6191.62327213] u\n",
      "[7272.23229027 6192.8058807 ] o\n",
      "[6665.24056105 4254.54384881] e\n",
      "[7551.38376716 6244.49938425] o\n",
      "[7659.02310526 4135.72936777] u\n",
      "[ 369.85976033 1962.99881615] e\n",
      "[7552.48229224 6144.36036521] i\n",
      "[6817.24234034 4082.06368941] u\n",
      "[ 404.5502661  1014.30755903] a\n",
      "[332.96092382 690.68339724] o\n",
      "[7355.28040345  378.37900282] e\n",
      "[7462.17820894  295.01131441] i\n",
      "[ 297.72153419 2132.56340916] i\n",
      "[7342.14779435 6046.1568034 ] u\n",
      "[7342.41204823 5505.35666833] a\n"
     ]
    }
   ],
   "source": [
    "for data, label in zip(X, Y):\n",
    "    print(data,label)"
   ]
  },
  {
   "cell_type": "code",
   "execution_count": 7,
   "metadata": {},
   "outputs": [
    {
     "name": "stdout",
     "output_type": "stream",
     "text": [
      "20 <class 'numpy.ndarray'> (20, 2)\n",
      "5 <class 'numpy.ndarray'> (5, 2)\n",
      "20 <class 'numpy.ndarray'> (20,)\n",
      "5 <class 'numpy.ndarray'> (5,)\n"
     ]
    }
   ],
   "source": [
    "## split feature data (this time, please use Formant) into 20 training data + 5 test data.\n",
    "from sklearn.model_selection import train_test_split\n",
    "\n",
    "x_train,x_test,y_train,y_test=train_test_split(X,Y,train_size=0.8)\n",
    "x_train = np.array(x_train)\n",
    "x_test = np.array(x_test)\n",
    "y_train = np.array(y_train)\n",
    "y_test = np.array(y_test)\n",
    "print(len(x_train), type(x_train), x_train.shape)\n",
    "print(len(x_test), type(x_test), x_test.shape)\n",
    "print(len(y_train), type(y_train), y_train.shape)\n",
    "print(len(y_test), type(y_test), y_test.shape)\n"
   ]
  },
  {
   "cell_type": "code",
   "execution_count": 8,
   "metadata": {},
   "outputs": [
    {
     "name": "stdout",
     "output_type": "stream",
     "text": [
      "correct label =  ['o' 'u' 'e' 'a' 'e']\n",
      "predict label =  ['i' 'o' 'i' 'i' 'i']\n",
      "correct answer rate =  0.0\n"
     ]
    }
   ],
   "source": [
    "## train SVM or logistic regression using the training data, and evaluate it with the test data.\n",
    "from sklearn.svm import SVC\n",
    "model = SVC(gamma='scale')\n",
    "model.fit(x_train, y_train)\n",
    "\n",
    "print('correct label = ', y_test)\n",
    "print('predict label = ', model.predict(x_test))\n",
    "print('correct answer rate = ', model.score(x_test, y_test))\n"
   ]
  },
  {
   "cell_type": "code",
   "execution_count": 8,
   "metadata": {},
   "outputs": [],
   "source": [
    "## make above 2 steps into one function.\n",
    "def speaker_recognition(feature_dir, n_train=20, n_test=5):\n",
    "    return accuracy_train, accuracy_test"
   ]
  },
  {
   "cell_type": "code",
   "execution_count": null,
   "metadata": {},
   "outputs": [],
   "source": [
    "## perform cross validation i.e. n_train=24, n_test=1, \n",
    "## and take average of accuracies of all 25 combinations."
   ]
  }
 ],
 "metadata": {
  "kernelspec": {
   "display_name": "Python 3",
   "language": "python",
   "name": "python3"
  },
  "language_info": {
   "codemirror_mode": {
    "name": "ipython",
    "version": 3
   },
   "file_extension": ".py",
   "mimetype": "text/x-python",
   "name": "python",
   "nbconvert_exporter": "python",
   "pygments_lexer": "ipython3",
   "version": "3.8.5"
  }
 },
 "nbformat": 4,
 "nbformat_minor": 4
}
