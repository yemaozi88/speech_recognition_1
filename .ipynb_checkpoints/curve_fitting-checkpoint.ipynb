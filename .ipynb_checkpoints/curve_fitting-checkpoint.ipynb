{
 "cells": [
  {
   "cell_type": "markdown",
   "metadata": {},
   "source": [
    "## Curve fitting\n",
    "Through curve fitting exercise, you will understand the basics of regression."
   ]
  },
  {
   "cell_type": "code",
   "execution_count": 1,
   "metadata": {},
   "outputs": [],
   "source": [
    "import os\n",
    "\n",
    "import numpy as np\n",
    "import matplotlib.pyplot as plt\n",
    "\n",
    "import default_settings as default"
   ]
  },
  {
   "cell_type": "code",
   "execution_count": 2,
   "metadata": {},
   "outputs": [
    {
     "data": {
      "text/plain": [
       "<matplotlib.collections.PathCollection at 0x7f603fd0dcd0>"
      ]
     },
     "execution_count": 2,
     "metadata": {},
     "output_type": "execute_result"
    },
    {
     "data": {
      "image/png": "[encoded data removed]",
      "text/plain": [
       "<Figure size 432x288 with 1 Axes>"
      ]
     },
     "metadata": {
      "needs_background": "light"
     },
     "output_type": "display_data"
    }
   ],
   "source": [
    "# load samples.\n",
    "with open('data/regression_samples.txt') as f:\n",
    "    lines = f.read().split('\\n')\n",
    "X = [float(line.split()[0]) for line in lines if len(line.split()) > 0]\n",
    "Y = [float(line.split()[1]) for line in lines if len(line.split()) > 0]\n",
    "\n",
    "X = np.array(X)\n",
    "Y = np.array(Y)\n",
    "# display the points.\n",
    "plt.scatter(X, Y)"
   ]
  },
  {
   "cell_type": "markdown",
   "metadata": {},
   "source": [
    "## problem description\n",
    "You will find a curve that fit the above scatter the best.   \n",
    "Let's assume the curve is described as: f(x, w) = a + b * x + c * x^2 + d * x^3.  \n",
    "Your task is to find w = [a, b, c, d].   \n",
    "  \n",
    "Here is our approach.  \n",
    "\n",
    "1. Initialize w with some numbers.\n",
    "2. Calculate how good f(x, w) fits the scatters by defining the cost function. For now, cost function is the root mean square error devided by the number of points. \n",
    "3. Update w using gradient descent, until the cost becomes small enough. "
   ]
  },
  {
   "cell_type": "code",
   "execution_count": 3,
   "metadata": {},
   "outputs": [
    {
     "data": {
      "text/plain": [
       "<matplotlib.collections.PathCollection at 0x7f603f46b8b0>"
      ]
     },
     "execution_count": 3,
     "metadata": {},
     "output_type": "execute_result"
    },
    {
     "data": {
      "image/png": "[encoded data removed]",
      "text/plain": [
       "<Figure size 432x288 with 1 Axes>"
      ]
     },
     "metadata": {
      "needs_background": "light"
     },
     "output_type": "display_data"
    }
   ],
   "source": [
    "# initilize w.\n",
    "w = [1, 1, 1, 1]\n",
    "\n",
    "# define function. \n",
    "def f_(x, w):\n",
    "    ### WRITE YOUR OWN CODES ### \n",
    "    y = w[0] + w[1] * x + w[2] * np.power(x,2) + w[3] * np.power(x,3)\n",
    "    return y\n",
    "\n",
    "\n",
    "# calculate predictions y\n",
    "Y_dash = f_(X, w)\n",
    "# display the points.\n",
    "plt.scatter(X, Y_dash)\n"
   ]
  },
  {
   "cell_type": "code",
   "execution_count": 4,
   "metadata": {},
   "outputs": [],
   "source": [
    "# define cost function.\n",
    "def cost_function(w, predictions, targets):\n",
    "    ### WRITE YOUR OWN CODES ### \n",
    "    sum = 0\n",
    "    grad_a, grad_b, grad_c, grad_d = 0, 0, 0, 0\n",
    "    N = len(targets)\n",
    "    for y_p, y_t in zip (predictions, targets):\n",
    "        tmp = np.sqrt(((y_t - y_p) ** 2).mean())\n",
    "        sum += tmp / N\n",
    "    return sum\n"
   ]
  },
  {
   "cell_type": "code",
   "execution_count": 5,
   "metadata": {},
   "outputs": [
    {
     "name": "stdout",
     "output_type": "stream",
     "text": [
      "107.55998800000002\n"
     ]
    }
   ],
   "source": [
    "cost = cost_function(w, Y_dash, Y)\n",
    "print(cost)"
   ]
  },
  {
   "cell_type": "code",
   "execution_count": 6,
   "metadata": {},
   "outputs": [],
   "source": [
    "learning_rate = 0.001\n",
    "error_point = 0.1\n",
    "iteration = 1\n",
    "\n",
    "# update w using gradient descent. \n",
    "def update_w(w, X, Y):\n",
    "    ### WRITE YOUR OWN CODES ### \n",
    "    count = 0\n",
    "    while count < iteration:\n",
    "        Y_dash = f_(X, w)\n",
    "        cost = cost_function(w, Y_dash, Y)\n",
    "\n",
    "        if cost < error_point:\n",
    "            break\n",
    "\n",
    "        w[0] -= (learning_rate * cost * w[0])\n",
    "        w[1] -= (learning_rate * cost * w[1])\n",
    "        w[2] -= (learning_rate * cost * w[2])\n",
    "        w[3] -= (learning_rate * cost * w[3])\n",
    "\n",
    "\n",
    "        count += 1\n",
    "    return w\n"
   ]
  },
  {
   "cell_type": "code",
   "execution_count": 7,
   "metadata": {},
   "outputs": [
    {
     "name": "stdout",
     "output_type": "stream",
     "text": [
      "[1, 1, 1, 1]\n",
      "[0.892440012, 0.892440012, 0.892440012, 0.892440012]\n"
     ]
    }
   ],
   "source": [
    "print(w)\n",
    "w0 = update_w(w, X, Y)\n",
    "print(w0)"
   ]
  },
  {
   "cell_type": "code",
   "execution_count": 8,
   "metadata": {},
   "outputs": [
    {
     "data": {
      "text/plain": [
       "<matplotlib.collections.PathCollection at 0x7f603f3ce790>"
      ]
     },
     "execution_count": 8,
     "metadata": {},
     "output_type": "execute_result"
    },
    {
     "data": {
      "image/png": "[encoded data removed]",
      "text/plain": [
       "<Figure size 432x288 with 1 Axes>"
      ]
     },
     "metadata": {
      "needs_background": "light"
     },
     "output_type": "display_data"
    }
   ],
   "source": [
    "Y_dash2 = f_(X, w0)\n",
    "plt.scatter(X, Y_dash2)"
   ]
  },
  {
   "cell_type": "code",
   "execution_count": null,
   "metadata": {},
   "outputs": [],
   "source": []
  }
 ],
 "metadata": {
  "kernelspec": {
   "display_name": "Python 3",
   "language": "python",
   "name": "python3"
  },
  "language_info": {
   "codemirror_mode": {
    "name": "ipython",
    "version": 3
   },
   "file_extension": ".py",
   "mimetype": "text/x-python",
   "name": "python",
   "nbconvert_exporter": "python",
   "pygments_lexer": "ipython3",
   "version": "3.8.5"
  }
 },
 "nbformat": 4,
 "nbformat_minor": 4
}
