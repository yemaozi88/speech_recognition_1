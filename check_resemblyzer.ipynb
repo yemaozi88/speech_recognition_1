{
 "cells": [
  {
   "cell_type": "code",
   "execution_count": 1,
   "id": "37edb3ad",
   "metadata": {},
   "outputs": [],
   "source": [
    "from resemblyzer import VoiceEncoder, preprocess_wav\n",
    "from pathlib import Path\n",
    "import numpy as np\n",
    "\n",
    "#from demo_utils import *\n",
    "from itertools import groupby\n",
    "#from tqdm import tqdm\n",
    "import matplotlib.pyplot as plt\n",
    "from mpl_toolkits.axes_grid1 import make_axes_locatable"
   ]
  },
  {
   "cell_type": "code",
   "execution_count": 2,
   "id": "53f10131",
   "metadata": {},
   "outputs": [
    {
     "name": "stdout",
     "output_type": "stream",
     "text": [
      "Loaded the voice encoder model on cpu in 0.01 seconds.\n"
     ]
    }
   ],
   "source": [
    "encoder = VoiceEncoder(\"cpu\")"
   ]
  },
  {
   "cell_type": "code",
   "execution_count": 3,
   "id": "3e1792e5",
   "metadata": {},
   "outputs": [
    {
     "name": "stdout",
     "output_type": "stream",
     "text": [
      "789\n",
      "10\n"
     ]
    }
   ],
   "source": [
    "fpaths = list(Path(\"/home/tts_local_share/projects/nele/hikari/data/all_clean/16k/\").glob(\"**/*.wav\"))\n",
    "print(len(fpaths))\n",
    "fpaths = fpaths[:10]\n",
    "print(len(fpaths))"
   ]
  },
  {
   "cell_type": "code",
   "execution_count": 4,
   "id": "2829226b",
   "metadata": {},
   "outputs": [],
   "source": [
    "wavs = list(map(preprocess_wav, fpaths))"
   ]
  },
  {
   "cell_type": "code",
   "execution_count": 5,
   "id": "c76dead3",
   "metadata": {},
   "outputs": [
    {
     "name": "stdout",
     "output_type": "stream",
     "text": [
      "Shape of embeddings: (10, 256)\n"
     ]
    }
   ],
   "source": [
    "## Similarity between two utterances from each speaker\n",
    "# Embed two utterances A and B for each speaker\n",
    "embedA = np.array([encoder.embed_utterance(wav) for wav in wavs])\n",
    "embedB = np.array([encoder.embed_utterance(wav) for wav in wavs])\n",
    "# Each array is of shape (num_speakers, embed_size) which should be (10, 256) if you haven't \n",
    "# changed anything.\n",
    "print(\"Shape of embeddings: %s\" % str(embedA.shape))"
   ]
  },
  {
   "cell_type": "code",
   "execution_count": 6,
   "id": "cfd835ff",
   "metadata": {},
   "outputs": [],
   "source": [
    "# Compute the similarity matrix. The similarity of two embeddings is simply their dot \n",
    "# product, because the similarity metric is the cosine similarity and the embeddings are \n",
    "# already L2-normed.\n",
    "# Short version:\n",
    "utt_sim_matrix = np.inner(embedA, embedB)\n",
    "# Long, detailed version:\n",
    "utt_sim_matrix2 = np.zeros((len(embedA), len(embedB)))"
   ]
  },
  {
   "cell_type": "code",
   "execution_count": 9,
   "id": "625f49b8",
   "metadata": {},
   "outputs": [],
   "source": [
    "for i in range(len(embedA)):\n",
    "    for j in range(len(embedB)):\n",
    "        # The @ notation is exactly equivalent to np.dot(embeds_a[i], embeds_b[i])\n",
    "        utt_sim_matrix2[i, j] = embedA[i] @ embedB[j]"
   ]
  },
  {
   "cell_type": "code",
   "execution_count": 10,
   "id": "1b858cf9",
   "metadata": {},
   "outputs": [],
   "source": [
    "assert np.allclose(utt_sim_matrix, utt_sim_matrix2)"
   ]
  },
  {
   "cell_type": "code",
   "execution_count": 11,
   "id": "edb28a7d",
   "metadata": {},
   "outputs": [],
   "source": [
    "def plot_similarity_matrix(matrix, labels_a=None, labels_b=None, ax: plt.Axes=None, title=\"\"):\n",
    "    if ax is None:\n",
    "        _, ax = plt.subplots()\n",
    "    fig = plt.gcf()\n",
    "        \n",
    "    img = ax.matshow(matrix, extent=(-0.5, matrix.shape[0] - 0.5, \n",
    "                                     -0.5, matrix.shape[1] - 0.5))\n",
    "\n",
    "    ax.xaxis.set_ticks_position(\"bottom\")\n",
    "    if labels_a is not None:\n",
    "        ax.set_xticks(range(len(labels_a)))\n",
    "        ax.set_xticklabels(labels_a, rotation=90)\n",
    "    if labels_b is not None:\n",
    "        ax.set_yticks(range(len(labels_b)))\n",
    "        ax.set_yticklabels(labels_b[::-1])  # Upper origin -> reverse y axis\n",
    "    ax.set_title(title)\n",
    "\n",
    "    cax = make_axes_locatable(ax).append_axes(\"right\", size=\"5%\", pad=0.15)\n",
    "    fig.colorbar(img, cax=cax, ticks=np.linspace(0.4, 1, 7))\n",
    "    img.set_clim(0.4, 1)\n",
    "    img.set_cmap(\"inferno\")\n",
    "    \n",
    "    return ax"
   ]
  },
  {
   "cell_type": "code",
   "execution_count": 16,
   "id": "dc62ca8d",
   "metadata": {},
   "outputs": [
    {
     "data": {
      "text/plain": [
       "<matplotlib.axes._subplots.AxesSubplot at 0x7fdd6c772a58>"
      ]
     },
     "execution_count": 16,
     "metadata": {},
     "output_type": "execute_result"
    },
    {
     "data": {
      "image/png": "[encoded data removed]",
      "text/plain": [
       "<Figure size 576x720 with 2 Axes>"
      ]
     },
     "metadata": {
      "needs_background": "light"
     },
     "output_type": "display_data"
    }
   ],
   "source": [
    "fix, axs = plt.subplots(1, 1, figsize=(8, 10))\n",
    "\n",
    "plot_similarity_matrix(utt_sim_matrix, [], None, axs,\n",
    "                       \"Cross-similarity between utterances\")"
   ]
  },
  {
   "cell_type": "code",
   "execution_count": null,
   "id": "b976f7c4",
   "metadata": {},
   "outputs": [],
   "source": []
  },
  {
   "cell_type": "code",
   "execution_count": 6,
   "id": "32204c6c",
   "metadata": {},
   "outputs": [],
   "source": [
    "from umap import UMAP\n",
    "\n",
    "_my_colors = np.array([\n",
    "    [0, 127, 70],\n",
    "    [255, 0, 0],\n",
    "    [255, 217, 38],\n",
    "    [0, 135, 255],\n",
    "    [165, 0, 165],\n",
    "    [255, 167, 255],\n",
    "    [97, 142, 151],\n",
    "    [0, 255, 255],\n",
    "    [255, 96, 38],\n",
    "    [142, 76, 0],\n",
    "    [33, 0, 127],\n",
    "    [0, 0, 0],\n",
    "    [183, 183, 183],\n",
    "    [76, 255, 0],\n",
    "], dtype=np.float) / 255 \n",
    "\n",
    "def plot_projections(embeds, speakers, ax=None, colors=None, markers=None, legend=True, \n",
    "                     title=\"\", **kwargs):\n",
    "    if ax is None:\n",
    "        _, ax = plt.subplots(figsize=(6, 6))\n",
    "        \n",
    "    # Compute the 2D projections. You could also project to another number of dimensions (e.g. \n",
    "    # for a 3D plot) or use a different different dimensionality reduction like PCA or TSNE.\n",
    "    reducer = UMAP(**kwargs)\n",
    "    projs = reducer.fit_transform(embeds)\n",
    "    \n",
    "    # Draw the projections\n",
    "    speakers = np.array(speakers)\n",
    "    colors = colors or _my_colors\n",
    "    for i, speaker in enumerate(np.unique(speakers)):\n",
    "        speaker_projs = projs[speakers == speaker]\n",
    "        marker = \"o\" if markers is None else markers[i]\n",
    "        label = speaker if legend else None\n",
    "        ax.scatter(*speaker_projs.T, c=[colors[i]], marker=marker, label=label)\n",
    "\n",
    "    if legend:\n",
    "        ax.legend(title=\"Speakers\", ncol=2)\n",
    "    ax.set_title(title)\n",
    "    ax.set_xticks([])\n",
    "    ax.set_yticks([])\n",
    "    ax.set_aspect(\"equal\")\n",
    "    \n",
    "    return projs"
   ]
  },
  {
   "cell_type": "code",
   "execution_count": 3,
   "id": "4e66c585",
   "metadata": {},
   "outputs": [],
   "source": [
    "wav_fpaths = list(Path(\"/home/takkan/experiments/audio_data/librispeech_test-other/\").glob(\"**/*.flac\"))\n",
    "speakers = list(map(lambda wav_fpath: wav_fpath.parent.stem, wav_fpaths))\n",
    "wavs = np.array(list(map(preprocess_wav, wav_fpaths)))\n",
    "speaker_wavs = {speaker: wavs[list(indices)] for speaker, indices in \n",
    "                groupby(range(len(wavs)), lambda i: speakers[i])}"
   ]
  },
  {
   "cell_type": "code",
   "execution_count": 4,
   "id": "d9fa31b0",
   "metadata": {},
   "outputs": [
    {
     "name": "stdout",
     "output_type": "stream",
     "text": [
      "Loaded the voice encoder model on cpu in 0.03 seconds.\n"
     ]
    }
   ],
   "source": [
    "encoder = VoiceEncoder(\"cpu\")\n",
    "utterance_embeds = np.array(list(map(encoder.embed_utterance, wavs)))"
   ]
  },
  {
   "cell_type": "code",
   "execution_count": 7,
   "id": "dae937a9",
   "metadata": {},
   "outputs": [
    {
     "data": {
      "text/plain": [
       "array([[ -3.3613298,  -5.205168 ],\n",
       "       [ -3.478956 ,  -4.7818155],\n",
       "       [ -3.3853893,  -4.8077145],\n",
       "       [ -3.606794 ,  -5.1612935],\n",
       "       [ -3.340305 ,  -4.8256807],\n",
       "       [ -3.2158315,  -4.993364 ],\n",
       "       [ -3.0862823,  -5.1644883],\n",
       "       [ -3.6895566,  -4.960408 ],\n",
       "       [ -3.4652898,  -5.2465167],\n",
       "       [ -3.5303628,  -4.929068 ],\n",
       "       [ -6.2281594,  -4.845293 ],\n",
       "       [ -6.2247133,  -4.7116995],\n",
       "       [ -6.055063 ,  -4.4792604],\n",
       "       [ -6.106031 ,  -4.8551555],\n",
       "       [ -5.877328 ,  -4.66805  ],\n",
       "       [ -6.1039453,  -4.7136517],\n",
       "       [ -6.3671865,  -4.3952427],\n",
       "       [ -6.2599025,  -4.475073 ],\n",
       "       [ -6.0361013,  -5.011909 ],\n",
       "       [ -6.5375905,  -4.8305163],\n",
       "       [ 19.176441 ,  -2.634125 ],\n",
       "       [ 19.02469  ,  -2.2856467],\n",
       "       [ 18.947323 ,  -2.5333426],\n",
       "       [ 19.01941  ,  -2.2061603],\n",
       "       [ 19.29553  ,  -2.0934277],\n",
       "       [ 19.12147  ,  -2.3078208],\n",
       "       [ 19.21679  ,  -2.3150501],\n",
       "       [ 19.046534 ,  -2.4384189],\n",
       "       [ 19.190489 ,  -1.9801575],\n",
       "       [ 19.444231 ,  -2.4405138],\n",
       "       [ 19.051397 ,   4.622675 ],\n",
       "       [ 19.047668 ,   4.818364 ],\n",
       "       [ 19.151686 ,   4.8813567],\n",
       "       [ 19.151735 ,   4.5340567],\n",
       "       [ 18.973043 ,   4.6072063],\n",
       "       [ 19.095955 ,   4.702903 ],\n",
       "       [ 18.866066 ,   4.7243266],\n",
       "       [ 19.277386 ,   4.591741 ],\n",
       "       [ 19.313553 ,   4.6679516],\n",
       "       [ 19.084585 ,   4.4925027],\n",
       "       [  4.9452925,  -6.753437 ],\n",
       "       [  4.829999 ,  -6.9665675],\n",
       "       [  5.0485992,  -6.922157 ],\n",
       "       [  4.90216  ,  -6.6488695],\n",
       "       [  5.184422 ,  -6.9071026],\n",
       "       [  5.3308954,  -6.637738 ],\n",
       "       [  5.22829  ,  -7.016532 ],\n",
       "       [  5.188336 ,  -6.7478414],\n",
       "       [  5.439626 ,  -6.8845625],\n",
       "       [  5.279439 ,  -7.21333  ],\n",
       "       [ 19.433191 , -12.984408 ],\n",
       "       [ 18.979832 , -13.143109 ],\n",
       "       [ 19.31106  , -12.819771 ],\n",
       "       [ 19.413233 , -12.71975  ],\n",
       "       [ 19.246302 , -12.890271 ],\n",
       "       [ 18.88663  , -12.91172  ],\n",
       "       [ 19.147076 , -12.768455 ],\n",
       "       [ 18.977762 , -12.759495 ],\n",
       "       [ 19.127356 , -13.022992 ],\n",
       "       [ 19.428734 , -13.156925 ],\n",
       "       [  1.3958232,  12.521104 ],\n",
       "       [  1.5257039,  12.561087 ],\n",
       "       [  1.2564838,  12.413997 ],\n",
       "       [  1.0644628,  12.745324 ],\n",
       "       [  1.2696004,  12.840433 ],\n",
       "       [  1.1639752,  12.451222 ],\n",
       "       [  1.1874552,  12.491808 ],\n",
       "       [  0.7999183,  12.52496  ],\n",
       "       [  0.938705 ,  12.6872015],\n",
       "       [  0.8822606,  12.652989 ],\n",
       "       [ -2.1643138,  10.848312 ],\n",
       "       [ -1.8873078,  10.801245 ],\n",
       "       [ -1.9963237,  10.981581 ],\n",
       "       [ -1.9975538,  10.769772 ],\n",
       "       [ -2.2135284,  10.572253 ],\n",
       "       [ -2.071304 ,  10.60889  ],\n",
       "       [ -2.326511 ,  10.929886 ],\n",
       "       [ -1.8344785,  10.751943 ],\n",
       "       [ -1.8822681,  10.942465 ],\n",
       "       [ -2.2254288,  11.055489 ],\n",
       "       [ -7.196445 ,  20.703392 ],\n",
       "       [ -6.937412 ,  20.716925 ],\n",
       "       [ -6.897293 ,  20.623688 ],\n",
       "       [ -7.1956873,  20.375057 ],\n",
       "       [ -6.9787755,  20.5818   ],\n",
       "       [ -7.330802 ,  20.310045 ],\n",
       "       [ -7.397775 ,  20.638084 ],\n",
       "       [ -7.299435 ,  20.896317 ],\n",
       "       [ -7.27081  ,  20.452015 ],\n",
       "       [ -7.149965 ,  20.464176 ],\n",
       "       [ -5.358788 ,  18.982496 ],\n",
       "       [ -4.8087482,  18.656448 ],\n",
       "       [ -5.1353316,  18.77502  ],\n",
       "       [ -4.9584193,  18.903303 ],\n",
       "       [ -4.810662 ,  18.614437 ],\n",
       "       [ -4.8442874,  18.514696 ],\n",
       "       [ -5.0234284,  18.808498 ],\n",
       "       [ -4.7263913,  18.605886 ],\n",
       "       [ -5.2110057,  18.46333  ],\n",
       "       [ -5.146371 ,  18.55305  ]], dtype=float32)"
      ]
     },
     "execution_count": 7,
     "metadata": {},
     "output_type": "execute_result"
    },
    {
     "data": {
      "image/png": "[encoded data removed]",
      "text/plain": [
       "<Figure size 432x432 with 1 Axes>"
      ]
     },
     "metadata": {},
     "output_type": "display_data"
    }
   ],
   "source": [
    "plot_projections(utterance_embeds, speakers, title = \"Embedding projections\")"
   ]
  },
  {
   "cell_type": "code",
   "execution_count": null,
   "id": "73b9b9c4",
   "metadata": {},
   "outputs": [],
   "source": []
  },
  {
   "cell_type": "code",
   "execution_count": 8,
   "id": "651803ab",
   "metadata": {},
   "outputs": [],
   "source": [
    "fpaths = list(Path(\"/home/tts_local_share/projects/nele/hikari/data/all_clean/16k/\").glob(\"**/*.wav\"))\n",
    "fpaths = fpaths[:100]\n",
    "wavs = list(map(preprocess_wav, fpaths))"
   ]
  },
  {
   "cell_type": "code",
   "execution_count": 9,
   "id": "3bca36be",
   "metadata": {},
   "outputs": [],
   "source": [
    "import random\n",
    "\n",
    "utterance_embeds = np.array(list(map(encoder.embed_utterance, wavs)))\n",
    "speakers = [random.randint(0, 10) for i in range(len(utterance_embeds))]"
   ]
  },
  {
   "cell_type": "code",
   "execution_count": 10,
   "id": "a41310ed",
   "metadata": {},
   "outputs": [
    {
     "data": {
      "text/plain": [
       "array([[10.901023 ,  8.755376 ],\n",
       "       [10.229674 ,  9.475391 ],\n",
       "       [10.0372305,  9.299216 ],\n",
       "       [ 9.895995 ,  9.102023 ],\n",
       "       [ 8.290148 ,  7.927373 ],\n",
       "       [ 8.92064  ,  6.9581184],\n",
       "       [10.849132 ,  8.973995 ],\n",
       "       [ 9.270627 ,  9.372922 ],\n",
       "       [10.905471 ,  7.7204204],\n",
       "       [10.49942  ,  7.234325 ],\n",
       "       [ 9.325298 ,  8.995033 ],\n",
       "       [ 8.4839115,  6.933361 ],\n",
       "       [ 9.020095 ,  7.4535613],\n",
       "       [ 9.39759  ,  6.9367175],\n",
       "       [10.094184 ,  7.983445 ],\n",
       "       [ 9.446847 ,  7.877638 ],\n",
       "       [ 8.996209 ,  8.140001 ],\n",
       "       [10.041184 ,  7.322714 ],\n",
       "       [ 9.538557 ,  7.8020697],\n",
       "       [10.703611 ,  6.5664377],\n",
       "       [10.445455 ,  6.7254667],\n",
       "       [10.176437 ,  6.911045 ],\n",
       "       [ 8.466324 ,  8.110639 ],\n",
       "       [ 9.930263 ,  7.1357594],\n",
       "       [10.000294 ,  7.8095794],\n",
       "       [ 9.571753 ,  7.2772975],\n",
       "       [ 9.907125 ,  7.6805873],\n",
       "       [10.317381 ,  7.1320105],\n",
       "       [10.724158 ,  6.9883204],\n",
       "       [10.830675 ,  7.034334 ],\n",
       "       [10.0772915,  7.5764356],\n",
       "       [10.442956 ,  9.248678 ],\n",
       "       [ 9.5972   ,  9.486363 ],\n",
       "       [ 9.704609 ,  8.640949 ],\n",
       "       [10.480593 ,  8.938777 ],\n",
       "       [ 9.164826 ,  9.084587 ],\n",
       "       [ 9.447375 ,  9.625493 ],\n",
       "       [10.496039 ,  8.208139 ],\n",
       "       [10.381443 ,  8.968226 ],\n",
       "       [ 9.88275  ,  8.817916 ],\n",
       "       [10.080588 ,  8.717793 ],\n",
       "       [ 9.788322 ,  8.202224 ],\n",
       "       [10.147143 ,  8.485567 ],\n",
       "       [10.549772 ,  8.480887 ],\n",
       "       [ 8.304838 ,  8.408161 ],\n",
       "       [ 8.723994 ,  7.8802004],\n",
       "       [ 9.012849 ,  8.67828  ],\n",
       "       [10.3642   ,  8.526352 ],\n",
       "       [10.875806 ,  9.258071 ],\n",
       "       [10.812441 ,  8.433761 ],\n",
       "       [ 6.922858 ,  9.009916 ],\n",
       "       [ 8.593862 ,  7.535184 ],\n",
       "       [ 7.553583 ,  7.7366447],\n",
       "       [ 7.8112464,  7.1189556],\n",
       "       [ 7.5066047,  6.917261 ],\n",
       "       [ 7.932218 ,  6.8868713],\n",
       "       [ 7.347092 ,  7.4765105],\n",
       "       [ 7.6449876,  9.002037 ],\n",
       "       [ 7.961231 ,  9.151921 ],\n",
       "       [ 7.9456244,  8.12205  ],\n",
       "       [ 6.9743104,  8.085751 ],\n",
       "       [ 7.687068 ,  7.8602767],\n",
       "       [ 7.2745314,  8.482298 ],\n",
       "       [ 7.4036894,  8.68979  ],\n",
       "       [ 7.907872 ,  8.61205  ],\n",
       "       [ 7.4808903,  8.041486 ],\n",
       "       [ 6.492285 ,  7.8322315],\n",
       "       [ 7.2656574,  8.355139 ],\n",
       "       [ 7.636153 ,  8.600039 ],\n",
       "       [ 8.854645 ,  9.486274 ],\n",
       "       [ 8.940634 ,  9.305822 ],\n",
       "       [ 8.304132 ,  9.264145 ],\n",
       "       [ 6.837644 ,  7.553214 ],\n",
       "       [ 8.778113 ,  8.417665 ],\n",
       "       [ 6.805731 ,  8.4015255],\n",
       "       [ 7.01102  ,  7.7004967],\n",
       "       [ 8.101237 ,  7.6679554],\n",
       "       [ 7.035485 ,  8.813479 ],\n",
       "       [ 5.962167 ,  5.66393  ],\n",
       "       [ 6.5111723,  6.891266 ],\n",
       "       [ 6.3106823,  6.0382357],\n",
       "       [ 5.9520597,  5.49411  ],\n",
       "       [ 5.7204623,  5.1712856],\n",
       "       [ 5.576758 ,  5.4688964],\n",
       "       [ 6.461716 ,  7.398394 ],\n",
       "       [ 5.2514153,  5.2361264],\n",
       "       [ 6.107173 ,  5.72547  ],\n",
       "       [ 5.8602567,  5.9436607],\n",
       "       [ 5.9221244,  6.3424335],\n",
       "       [ 5.4824696,  5.77581  ],\n",
       "       [ 5.6076236,  5.2849293],\n",
       "       [ 6.4884105,  7.167379 ],\n",
       "       [ 6.387168 ,  6.5130343],\n",
       "       [ 7.0913873,  7.013911 ],\n",
       "       [ 5.7087646,  6.6987357],\n",
       "       [ 5.4257574,  5.3631105],\n",
       "       [ 7.2325974,  7.0573955],\n",
       "       [ 5.970172 ,  6.446738 ],\n",
       "       [ 8.207063 ,  7.245525 ],\n",
       "       [ 6.1132054,  7.151755 ]], dtype=float32)"
      ]
     },
     "execution_count": 10,
     "metadata": {},
     "output_type": "execute_result"
    },
    {
     "data": {
      "image/png": "[encoded data removed]",
      "text/plain": [
       "<Figure size 432x432 with 1 Axes>"
      ]
     },
     "metadata": {},
     "output_type": "display_data"
    }
   ],
   "source": [
    "plot_projections(utterance_embeds, speakers, title = \"Embedding projections\")"
   ]
  },
  {
   "cell_type": "code",
   "execution_count": null,
   "id": "d4396a14",
   "metadata": {},
   "outputs": [],
   "source": []
  }
 ],
 "metadata": {
  "kernelspec": {
   "display_name": "speech",
   "language": "python",
   "name": "speech"
  },
  "language_info": {
   "codemirror_mode": {
    "name": "ipython",
    "version": 3
   },
   "file_extension": ".py",
   "mimetype": "text/x-python",
   "name": "python",
   "nbconvert_exporter": "python",
   "pygments_lexer": "ipython3",
   "version": "3.7.0"
  }
 },
 "nbformat": 4,
 "nbformat_minor": 5
}
