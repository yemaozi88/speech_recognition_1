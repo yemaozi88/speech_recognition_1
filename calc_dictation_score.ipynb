{
 "cells": [
  {
   "cell_type": "markdown",
   "id": "greatest-royalty",
   "metadata": {},
   "source": [
    "# Existing function"
   ]
  },
  {
   "cell_type": "code",
   "execution_count": 2,
   "id": "computational-modern",
   "metadata": {},
   "outputs": [
    {
     "name": "stdout",
     "output_type": "stream",
     "text": [
      "2\n"
     ]
    }
   ],
   "source": [
    "import Levenshtein\n",
    "\n",
    "# use strings\n",
    "answer_txt = 'kaneda'\n",
    "student_txt = 'caneeda'\n",
    "\n",
    "print(Levenshtein.distance(answer_txt, student_txt))"
   ]
  },
  {
   "cell_type": "markdown",
   "id": "connected-clark",
   "metadata": {},
   "source": [
    "# Implementation function of Levenshtein Distance"
   ]
  },
  {
   "cell_type": "code",
   "execution_count": 7,
   "id": "familiar-istanbul",
   "metadata": {},
   "outputs": [],
   "source": [
    "def levenshteinDistance(answer, student):\n",
    "    '''\n",
    "    asnwer, student (string): answer to the dictation. \n",
    "    '''\n",
    "    # If one is empty, the length of the other is the distance\n",
    "    if answer == \"\":\n",
    "        return len(student)\n",
    "    if student == \"\":\n",
    "        return len(answer)\n",
    "    \n",
    "    # If the first character matches, the distance required for the second and subsequent characters\n",
    "    if answer[0] == student[0]:\n",
    "        return levenshteinDistance(answer[1:], student[1:])\n",
    "    \n",
    "    # If the first character does not match\n",
    "    # Insert\n",
    "    insert_cost = levenshteinDistance(answer[:], student[1:])\n",
    "    \n",
    "    # Delete\n",
    "    delete_cost = levenshteinDistance(answer[1:], student[:])\n",
    "    \n",
    "    # Replace\n",
    "    replace_cost = levenshteinDistance(answer[1:], student[1:])\n",
    "    \n",
    "    # (1, first character of Insert/Delete/Replace cost) + (Minimum cost of the remaining characters)\n",
    "    return 1 + min(insert_cost, delete_cost, replace_cost)\n",
    "    "
   ]
  },
  {
   "cell_type": "code",
   "execution_count": 8,
   "id": "linear-costa",
   "metadata": {},
   "outputs": [
    {
     "name": "stdout",
     "output_type": "stream",
     "text": [
      "2\n"
     ]
    }
   ],
   "source": [
    "# use strings\n",
    "answer_txt = 'kaneda'\n",
    "student_txt = 'caneeda'\n",
    "\n",
    "score = levenshteinDistance(answer_txt, student_txt)\n",
    "print(score)"
   ]
  },
  {
   "cell_type": "markdown",
   "id": "molecular-manner",
   "metadata": {},
   "source": [
    "# Implementation function of Levenshtein Distance and index correnspondence"
   ]
  },
  {
   "cell_type": "code",
   "execution_count": 11,
   "id": "boxed-enforcement",
   "metadata": {},
   "outputs": [],
   "source": [
    "def levenshteinDistance2(answer, student):\n",
    "    '''\n",
    "    asnwer, student (string): answer to the dictation. \n",
    "    '''\n",
    "    # If the strings match, the distance is 0\n",
    "    if answer == student:\n",
    "        return 0, [i for i in range(len(answer)+1)]\n",
    "    len_answer = len(answer)\n",
    "    len_student = len(student)\n",
    "    \n",
    "    # If one is empty, the length of the other is the distance\n",
    "    if answer == \"\":\n",
    "        return len_student, []\n",
    "    if student == \"\":\n",
    "        return len_answer, []\n",
    "\n",
    "    #\n",
    "    "
   ]
  },
  {
   "cell_type": "code",
   "execution_count": 14,
   "id": "sensitive-shelter",
   "metadata": {},
   "outputs": [
    {
     "name": "stdout",
     "output_type": "stream",
     "text": [
      "0 [0, 1, 2, 3, 4, 5, 6]\n"
     ]
    }
   ],
   "source": [
    "# use strings\n",
    "answer_txt = 'kaneda'\n",
    "student_txt = 'kaneda'\n",
    "\n",
    "score, correnspondence = levenshteinDistance2(answer_txt, student_txt)\n",
    "print(score, correnspondence)"
   ]
  },
  {
   "cell_type": "code",
   "execution_count": null,
   "id": "marine-hygiene",
   "metadata": {},
   "outputs": [],
   "source": []
  }
 ],
 "metadata": {
  "kernelspec": {
   "display_name": "iMetricGAN",
   "language": "python",
   "name": "imetricgan"
  },
  "language_info": {
   "codemirror_mode": {
    "name": "ipython",
    "version": 3
   },
   "file_extension": ".py",
   "mimetype": "text/x-python",
   "name": "python",
   "nbconvert_exporter": "python",
   "pygments_lexer": "ipython3",
   "version": "3.7.9"
  }
 },
 "nbformat": 4,
 "nbformat_minor": 5
}
