{
 "cells": [
  {
   "cell_type": "code",
   "execution_count": 1,
   "metadata": {},
   "outputs": [],
   "source": [
    "import os\n",
    "\n",
    "import matplotlib.pyplot as plt\n",
    "\n",
    "import scipy.signal as sig\n",
    "import numpy as np\n",
    "import scipy.io.wavfile as scw\n",
    "\n",
    "import wave\n",
    "import cmath as cm\n",
    "\n",
    "import math\n",
    "import librosa"
   ]
  },
  {
   "cell_type": "markdown",
   "metadata": {},
   "source": [
    "# preparation : define extract_feature."
   ]
  },
  {
   "cell_type": "code",
   "execution_count": 2,
   "metadata": {},
   "outputs": [],
   "source": [
    "def extract_formant(x, deg):\n",
    "    ''' extract formant from signal x. '''\n",
    "    f0 = []\n",
    "    return f0\n",
    "\n",
    "def extract_cepstrum(x, deg):\n",
    "    cep = []\n",
    "    return cep\n",
    "\n",
    "def extract_mfcc(x, deg):\n",
    "    mfcc = []\n",
    "    return mfcc"
   ]
  },
  {
   "cell_type": "code",
   "execution_count": null,
   "metadata": {},
   "outputs": [],
   "source": []
  }
 ],
 "metadata": {
  "kernelspec": {
   "display_name": "VTSing",
   "language": "python",
   "name": "vtsing"
  },
  "language_info": {
   "codemirror_mode": {
    "name": "ipython",
    "version": 3
   },
   "file_extension": ".py",
   "mimetype": "text/x-python",
   "name": "python",
   "nbconvert_exporter": "python",
   "pygments_lexer": "ipython3",
   "version": "3.8.5"
  }
 },
 "nbformat": 4,
 "nbformat_minor": 4
}
