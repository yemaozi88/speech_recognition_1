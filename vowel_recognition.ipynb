{
 "cells": [
  {
   "cell_type": "code",
   "execution_count": 1,
   "metadata": {},
   "outputs": [],
   "source": [
    "import os\n",
    "\n",
    "import matplotlib.pyplot as plt\n",
    "\n",
    "import librosa\n",
    "import scipy\n",
    "import scipy.signal as sig\n",
    "import scipy.io.wavfile as scw\n",
    "\n",
    "import numpy as np\n",
    "\n",
    "import wave\n",
    "import cmath as cm\n",
    "import math\n",
    "\n",
    "import default_settings\n"
   ]
  },
  {
   "cell_type": "markdown",
   "metadata": {},
   "source": [
    "# preparation : define extract_feature."
   ]
  },
  {
   "cell_type": "code",
   "execution_count": 2,
   "metadata": {},
   "outputs": [],
   "source": [
    "def levinson(signal, order):\n",
    "    x = signal\n",
    "    p = order\n",
    "    autocorr = np.correlate(x,x,mode='full')\n",
    "    r = autocorr[len(x)-1:len(x)+p]\n",
    "\n",
    "    a = np.zeros(p+1)\n",
    "    k = np.zeros(p)\n",
    "    a[0] = 1\n",
    "    a[1] = -r[1] / r[0]\n",
    "    k[0] = a[1]\n",
    "    E = r[0] + r[1] * a[1]\n",
    "    for q in range(1,p):\n",
    "        k[q] = -np.sum(a[0:q+1] * r[q+1:0:-1]) / E\n",
    "        U = a[0:q+2]\n",
    "        V = U[::-1]\n",
    "        a[0:q+2] = U + k[q] * V\n",
    "        E *= 1-k[q] * k[q]\n",
    "\n",
    "    return a, k\n",
    "\n",
    "\n",
    "def preEmphasis(signal, p):\n",
    "    \"\"\"プリエンファシスフィルタ\"\"\"\n",
    "    # 係数 (1.0, -p) のFIRフィルタを作成\n",
    "    return sig.lfilter([1.0, -p], 1, signal)\n",
    "\n",
    "\n",
    "def autocorr(x, nlags=None):\n",
    "    \"\"\"自己相関関数を求める\n",
    "    x:     信号\n",
    "    nlags: 自己相関関数のサイズ（lag=0からnlags-1まで）\n",
    "           引数がなければ（lag=0からlen(x)-1まですべて）\n",
    "    \"\"\"\n",
    "    N = len(x)\n",
    "    if nlags == None: nlags = N\n",
    "    r = np.zeros(nlags)\n",
    "    for lag in range(nlags):\n",
    "        for n in range(N - lag):\n",
    "            r[lag] += x[n] * x[n + lag]\n",
    "    return r"
   ]
  },
  {
   "cell_type": "code",
   "execution_count": 3,
   "metadata": {},
   "outputs": [],
   "source": [
    "def FFT(x):\n",
    "    N = x.shape[0]\n",
    "    \n",
    "    # Recursive processing end confirmation\n",
    "    if N==1:\n",
    "        return x[0]\n",
    "    \n",
    "    x_even = x[0:N:2]\n",
    "    x_odd = x[1:N:2]\n",
    "    \n",
    "    # Recursive processing\n",
    "    X_even = FFT(x_even)\n",
    "    X_odd = FFT(x_odd)\n",
    "    \n",
    "    # weight\n",
    "    W = []\n",
    "    for t in range(N//2):\n",
    "        W.append(np.exp(-1j * ((2*np.pi*t) / N)))\n",
    "    W = np.array(W)\n",
    "    \n",
    "    X = np.zeros(N, dtype=\"complex\")\n",
    "    X[0:N//2] = X_even + W*X_odd\n",
    "    X[N//2:N] = X_even - W*X_odd\n",
    "    \n",
    "    return X\n",
    "\n",
    "\n",
    "def IFFT(X):\n",
    "    N = X.shape[0]\n",
    "    X = X.conjugate()\n",
    "    x = FFT(X)\n",
    "    return (1/N) * x.conjugate()\n"
   ]
  },
  {
   "cell_type": "code",
   "execution_count": 4,
   "metadata": {},
   "outputs": [],
   "source": [
    "def extract_formant(x, fs, deg):\n",
    "    a, k = levinson(x,deg)\n",
    "    \n",
    "    w, h = sig.freqz(1, a)\n",
    "    fig = plt.figure()\n",
    "    ax = fig.add_subplot(111)\n",
    "    ax.plot(fs * w / 2.0 / np.pi, 20 * np.log10(np.abs(h)))\n",
    "    ax.set_xlabel('frequency [Hz]')\n",
    "    ax.set_ylabel('$1 / |A(e^{j\\omega})|$ [dB]')\n",
    "    plt.show()\n",
    "    \n",
    "    poles = np.roots(a)\n",
    "    intns = np.abs(poles)\n",
    "    ff = np.angle(poles) * fs / 2.0 / np.pi\n",
    "    formantfreq = ff[(ff > 10) & (ff < fs / 2.0 - 10) & (intns > 0.8)]\n",
    "\n",
    "    print(formantfreq)\n",
    "    return formantfreq\n",
    "\n",
    "def extract_cepstrum(x, sr, deg):\n",
    "    fft_data_ori = FFT(x)\n",
    "    freq_ori = np.arange(len(fft_data_ori)) * sr / len(fft_data_ori)\n",
    "    pow_spec = np.log10(np.real(np.abs(fft_data_ori)**2))\n",
    "    cep = IFFT(pow_spec)\n",
    "    return cep[:deg]\n",
    "\n",
    "def extract_mfcc(x, sr, deg):\n",
    "    if len(x) <= 2048:\n",
    "        mfcc = librosa.feature.mfcc(y=x, sr=sr ,n_mfcc=deg, n_fft=len(x))\n",
    "    else:\n",
    "        mfcc = librosa.feature.mfcc(y=x, sr=sr ,n_mfcc=deg)\n",
    "    return mfcc\n"
   ]
  },
  {
   "cell_type": "code",
   "execution_count": 5,
   "metadata": {},
   "outputs": [
    {
     "name": "stdout",
     "output_type": "stream",
     "text": [
      "speech_sample/A_a.wav\n"
     ]
    },
    {
     "data": {
      "image/png": "[encoded data removed]",
      "text/plain": [
       "<Figure size 432x288 with 1 Axes>"
      ]
     },
     "metadata": {
      "needs_background": "light"
     },
     "output_type": "display_data"
    },
    {
     "name": "stdout",
     "output_type": "stream",
     "text": [
      "[7224.07497687 5193.71641059 3791.44784502 2872.82390869  988.20804392\n",
      "  649.35692722]\n",
      "[-0.70768141-0.00000000e+00j  0.6939591 -1.06902334e-16j\n",
      "  0.15675354-1.35033992e-17j  0.05267697-3.06829215e-17j\n",
      "  0.18167345+1.14058069e-16j  0.12798404+3.56702515e-17j\n",
      " -0.01132817-2.61839060e-16j -0.07129921+1.28647364e-16j\n",
      " -0.11887636+8.16404236e-17j -0.10342169-1.08637058e-16j\n",
      " -0.08694524+1.76458986e-16j -0.0738171 -1.18503297e-16j\n",
      " -0.04963763-1.37117694e-16j -0.02673921+1.73038667e-16j\n",
      " -0.11898161+2.29351111e-17j -0.09094993-2.48661768e-16j\n",
      "  0.00555841+2.86771475e-16j  0.04515897-1.31080043e-16j\n",
      "  0.01059303+1.32538633e-16j -0.05117417-4.87348877e-17j]\n",
      "[[ -80.44891416  -96.45900121 -114.36119098  -85.2196553 ]\n",
      " [ 132.82625828  117.4180809    95.6794617   120.54662512]\n",
      " [ -14.65536916  -18.22398721  -29.92804018  -25.96895865]\n",
      " [  -2.18209271   -0.75077674   -4.59704634  -10.88592942]\n",
      " [ -85.02749488  -81.49743979  -77.5005075   -79.26763963]\n",
      " [   5.76359854    5.47188486    4.65210604    2.1508375 ]\n",
      " [  27.44430286   24.93187559   25.46522396   25.53653671]\n",
      " [ -16.96987286  -15.25972381  -16.14009561  -15.7699525 ]\n",
      " [   3.30967179    2.81177134    1.58881644    5.95642437]\n",
      " [   9.55064082    8.06926664    5.86360929    8.04811585]\n",
      " [  10.94913264   10.87535113   15.38007521   17.50114666]\n",
      " [  -1.4354611    -1.10356977    1.13604264   -5.94249094]\n",
      " [  -1.93865217   -4.34873177   -2.06475036   -8.22303389]\n",
      " [ -16.54988226  -15.75090066  -10.76650192  -14.8693924 ]\n",
      " [ -22.42736954  -21.39990739  -16.8238835   -13.49177069]\n",
      " [  -2.4717302    -3.4163599    -2.60232025    1.12225706]\n",
      " [  12.32272544    9.92570907    9.88148481   12.2821125 ]\n",
      " [   1.93093974    0.67027779   -0.9452076    -5.99604603]\n",
      " [  -0.27113712   -1.97796317   -0.36901378   -4.10032945]\n",
      " [   1.39064909    3.17022775    6.4435606     6.39898665]]\n"
     ]
    }
   ],
   "source": [
    "speech_sample_dir = 'speech_sample'\n",
    "wav_file = os.path.join(speech_sample_dir, 'A_a.wav')\n",
    "print(wav_file)\n",
    "\n",
    "sampling_rate, sample_data = scw.read(wav_file)\n",
    "sample_data = sample_data / 32768\n",
    "return_formant = extract_formant(sample_data, sampling_rate, 12)\n",
    "return_cep = extract_cepstrum(sample_data[:512], sampling_rate, 20)\n",
    "print(return_cep)\n",
    "return_mfcc = extract_mfcc(sample_data, sampling_rate, 20)\n",
    "print(return_mfcc)"
   ]
  },
  {
   "cell_type": "code",
   "execution_count": null,
   "metadata": {},
   "outputs": [],
   "source": []
  }
 ],
 "metadata": {
  "kernelspec": {
   "display_name": "VTSing",
   "language": "python",
   "name": "vtsing"
  },
  "language_info": {
   "codemirror_mode": {
    "name": "ipython",
    "version": 3
   },
   "file_extension": ".py",
   "mimetype": "text/x-python",
   "name": "python",
   "nbconvert_exporter": "python",
   "pygments_lexer": "ipython3",
   "version": "3.8.5"
  }
 },
 "nbformat": 4,
 "nbformat_minor": 4
}
