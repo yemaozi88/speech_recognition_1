{
 "cells": [
  {
   "cell_type": "code",
   "execution_count": 1,
   "id": "02fc4bf6",
   "metadata": {},
   "outputs": [],
   "source": [
    "import librosa\n",
    "import librosa.display\n",
    "\n",
    "import matplotlib.pyplot as plt\n",
    "from matplotlib import cm\n",
    "\n",
    "import numpy as np\n",
    "from numpy import *\n",
    "from numpy import linalg as la\n",
    "\n",
    "import pandas as pd\n",
    "\n",
    "from sklearn.datasets import load_iris\n",
    "from sklearn.mixture import GaussianMixture\n",
    "\n",
    "from scipy.stats import norm\n",
    "\n",
    "import seaborn as sns"
   ]
  },
  {
   "cell_type": "markdown",
   "id": "91d53564",
   "metadata": {},
   "source": [
    "# Evaluate using iris_data set"
   ]
  },
  {
   "cell_type": "markdown",
   "id": "f1a6b7be",
   "metadata": {},
   "source": [
    "## load iris_data set"
   ]
  },
  {
   "cell_type": "code",
   "execution_count": 2,
   "id": "0ea6a621",
   "metadata": {},
   "outputs": [
    {
     "data": {
      "text/html": [
       "<div>\n",
       "<style scoped>\n",
       "    .dataframe tbody tr th:only-of-type {\n",
       "        vertical-align: middle;\n",
       "    }\n",
       "\n",
       "    .dataframe tbody tr th {\n",
       "        vertical-align: top;\n",
       "    }\n",
       "\n",
       "    .dataframe thead th {\n",
       "        text-align: right;\n",
       "    }\n",
       "</style>\n",
       "<table border=\"1\" class=\"dataframe\">\n",
       "  <thead>\n",
       "    <tr style=\"text-align: right;\">\n",
       "      <th></th>\n",
       "      <th>sepal length (cm)</th>\n",
       "      <th>sepal width (cm)</th>\n",
       "      <th>petal length (cm)</th>\n",
       "      <th>petal width (cm)</th>\n",
       "    </tr>\n",
       "  </thead>\n",
       "  <tbody>\n",
       "    <tr>\n",
       "      <th>0</th>\n",
       "      <td>5.1</td>\n",
       "      <td>3.5</td>\n",
       "      <td>1.4</td>\n",
       "      <td>0.2</td>\n",
       "    </tr>\n",
       "    <tr>\n",
       "      <th>1</th>\n",
       "      <td>4.9</td>\n",
       "      <td>3.0</td>\n",
       "      <td>1.4</td>\n",
       "      <td>0.2</td>\n",
       "    </tr>\n",
       "    <tr>\n",
       "      <th>2</th>\n",
       "      <td>4.7</td>\n",
       "      <td>3.2</td>\n",
       "      <td>1.3</td>\n",
       "      <td>0.2</td>\n",
       "    </tr>\n",
       "    <tr>\n",
       "      <th>3</th>\n",
       "      <td>4.6</td>\n",
       "      <td>3.1</td>\n",
       "      <td>1.5</td>\n",
       "      <td>0.2</td>\n",
       "    </tr>\n",
       "    <tr>\n",
       "      <th>4</th>\n",
       "      <td>5.0</td>\n",
       "      <td>3.6</td>\n",
       "      <td>1.4</td>\n",
       "      <td>0.2</td>\n",
       "    </tr>\n",
       "    <tr>\n",
       "      <th>...</th>\n",
       "      <td>...</td>\n",
       "      <td>...</td>\n",
       "      <td>...</td>\n",
       "      <td>...</td>\n",
       "    </tr>\n",
       "    <tr>\n",
       "      <th>145</th>\n",
       "      <td>6.7</td>\n",
       "      <td>3.0</td>\n",
       "      <td>5.2</td>\n",
       "      <td>2.3</td>\n",
       "    </tr>\n",
       "    <tr>\n",
       "      <th>146</th>\n",
       "      <td>6.3</td>\n",
       "      <td>2.5</td>\n",
       "      <td>5.0</td>\n",
       "      <td>1.9</td>\n",
       "    </tr>\n",
       "    <tr>\n",
       "      <th>147</th>\n",
       "      <td>6.5</td>\n",
       "      <td>3.0</td>\n",
       "      <td>5.2</td>\n",
       "      <td>2.0</td>\n",
       "    </tr>\n",
       "    <tr>\n",
       "      <th>148</th>\n",
       "      <td>6.2</td>\n",
       "      <td>3.4</td>\n",
       "      <td>5.4</td>\n",
       "      <td>2.3</td>\n",
       "    </tr>\n",
       "    <tr>\n",
       "      <th>149</th>\n",
       "      <td>5.9</td>\n",
       "      <td>3.0</td>\n",
       "      <td>5.1</td>\n",
       "      <td>1.8</td>\n",
       "    </tr>\n",
       "  </tbody>\n",
       "</table>\n",
       "<p>150 rows × 4 columns</p>\n",
       "</div>"
      ],
      "text/plain": [
       "     sepal length (cm)  sepal width (cm)  petal length (cm)  petal width (cm)\n",
       "0                  5.1               3.5                1.4               0.2\n",
       "1                  4.9               3.0                1.4               0.2\n",
       "2                  4.7               3.2                1.3               0.2\n",
       "3                  4.6               3.1                1.5               0.2\n",
       "4                  5.0               3.6                1.4               0.2\n",
       "..                 ...               ...                ...               ...\n",
       "145                6.7               3.0                5.2               2.3\n",
       "146                6.3               2.5                5.0               1.9\n",
       "147                6.5               3.0                5.2               2.0\n",
       "148                6.2               3.4                5.4               2.3\n",
       "149                5.9               3.0                5.1               1.8\n",
       "\n",
       "[150 rows x 4 columns]"
      ]
     },
     "execution_count": 2,
     "metadata": {},
     "output_type": "execute_result"
    }
   ],
   "source": [
    "iris=load_iris()\n",
    "features = iris.data\n",
    "feature_names = iris.feature_names\n",
    "target = iris.target\n",
    "target_names = iris.target_names\n",
    "data=features\n",
    "\n",
    "pd.DataFrame(features, columns=feature_names)"
   ]
  },
  {
   "cell_type": "code",
   "execution_count": 3,
   "id": "78d57665",
   "metadata": {},
   "outputs": [
    {
     "data": {
      "image/png": "[encoded data removed]",
      "text/plain": [
       "<Figure size 432x288 with 1 Axes>"
      ]
     },
     "metadata": {
      "needs_background": "light"
     },
     "output_type": "display_data"
    }
   ],
   "source": [
    "fig = plt.figure()\n",
    "\n",
    "# set title and labels\n",
    "fig.suptitle('Sepal data', fontsize=20)\n",
    "plt.xlabel('sepal length in cm', fontsize=18)\n",
    "plt.ylabel('sepal width in cm', fontsize=16)\n",
    "\n",
    "# plot all samples\n",
    "plt.scatter(features[:, 0], features[:, 1], c=target)\n",
    "plt.show()"
   ]
  },
  {
   "cell_type": "markdown",
   "id": "46b82e9e",
   "metadata": {},
   "source": [
    "## Implemented EM algorithm"
   ]
  },
  {
   "cell_type": "code",
   "execution_count": 4,
   "id": "d458d8bb",
   "metadata": {},
   "outputs": [],
   "source": [
    "class_set = ['setosa','versicolor','virginica']\n",
    "avg_set = []\n",
    "\n",
    "# save sample data as matrix\n",
    "X = empty((0))\n",
    "\n",
    "# save number of cols and rows\n",
    "sample_count = 0\n",
    "feature_count = 0\n",
    "\n",
    "# parameters of GMM\n",
    "k = len(class_set)\n",
    "init_cov = []\n",
    "init_mu = []\n",
    "init_phi = []\n",
    "\n",
    "# output result\n",
    "result = pd.DataFrame(columns=['sepal length', 'sepal width', 'petal length', 'petal width','class', 'Prob'])\n",
    "centroids = []"
   ]
  },
  {
   "cell_type": "code",
   "execution_count": 5,
   "id": "95a03a7b",
   "metadata": {},
   "outputs": [],
   "source": [
    "# load data as numpy array\n",
    "def load_data(data_set):\n",
    "    X = mat(data_set.T[:].T)\n",
    "    sample_count, feature_count = shape(X)\n",
    "    avg_set = [average(col) for col in data_set.T[:]]\n",
    "\n",
    "    return X, sample_count, feature_count, avg_set\n",
    "\n",
    "# init parameters\n",
    "def init_par(k, X, init_phi, init_mu, init_cov, feature_count):\n",
    "    # init phi distribution\n",
    "    for i in range(k):\n",
    "        init_phi.append(1 / k)\n",
    "\n",
    "    # randomly select k sample as initial mu of k class\n",
    "    init_mu = [X[i, :] for i in random.randint(0,150,size=k)]\n",
    "\n",
    "    # init identity matrix as initial covariance matrix\n",
    "    init_cov = [mat(np.identity(feature_count)) for _ in range(k)]\n",
    "    \n",
    "    return init_phi, init_mu, init_cov"
   ]
  },
  {
   "cell_type": "code",
   "execution_count": 6,
   "id": "c1197edf",
   "metadata": {},
   "outputs": [],
   "source": [
    "X, sample_count, feature_count, avg_set = load_data(features)\n",
    "init_phi, init_mu, init_cov = init_par(k, X, init_phi, init_mu, init_cov, feature_count)"
   ]
  },
  {
   "cell_type": "code",
   "execution_count": 7,
   "id": "895af870",
   "metadata": {},
   "outputs": [
    {
     "name": "stdout",
     "output_type": "stream",
     "text": [
      "[0.3333333333333333, 0.3333333333333333, 0.3333333333333333] 3\n",
      "[matrix([[6.9, 3.2, 5.7, 2.3]]), matrix([[5.7, 2.6, 3.5, 1. ]]), matrix([[5.4, 3.4, 1.7, 0.2]])] 3\n",
      "[matrix([[1., 0., 0., 0.],\n",
      "        [0., 1., 0., 0.],\n",
      "        [0., 0., 1., 0.],\n",
      "        [0., 0., 0., 1.]]), matrix([[1., 0., 0., 0.],\n",
      "        [0., 1., 0., 0.],\n",
      "        [0., 0., 1., 0.],\n",
      "        [0., 0., 0., 1.]]), matrix([[1., 0., 0., 0.],\n",
      "        [0., 1., 0., 0.],\n",
      "        [0., 0., 1., 0.],\n",
      "        [0., 0., 0., 1.]])] 3\n"
     ]
    }
   ],
   "source": [
    "print(init_phi, len(init_phi))\n",
    "print(init_mu, len(init_mu))\n",
    "print(init_cov, len(init_cov))"
   ]
  },
  {
   "cell_type": "code",
   "execution_count": 8,
   "id": "38c7d5de",
   "metadata": {},
   "outputs": [],
   "source": [
    "# calculate multivariate Normal distribution probabilities of each sample(gamma)\n",
    "def G_prob(x, mu, cov):\n",
    "    n = len(x[0])\n",
    "    e_power = float(-0.5 * (x - mu) * (cov.I) * ((x - mu).T))\n",
    "    Deno = power(2 * pi, n / 2) * power(linalg.det(cov), 0.5)\n",
    "    gamma = power(e, e_power) / Deno\n",
    "    return gamma\n",
    "\n",
    "# implement EM Algorithm\n",
    "def EM(X, init_phi, init_cov, init_mu, k, sample_count, feature_count):\n",
    "\n",
    "    # init parameters\n",
    "    phi = init_phi\n",
    "    cov = init_cov\n",
    "    mu = init_mu\n",
    "\n",
    "    # init probabilities set\n",
    "    gamma = mat(zeros((sample_count, k)))\n",
    "\n",
    "    # Start Iteration\n",
    "    dif = 1\n",
    "    threshold = 1e-3\n",
    "    while dif > threshold:\n",
    "        mu_pre = [item for item in mu]\n",
    "        # step E\n",
    "        for j in range(sample_count):\n",
    "            px = 0\n",
    "            for i in range(k):\n",
    "                gamma[j, i] = phi[i] * G_prob(X[j, :], mu[i], cov[i])\n",
    "                px += gamma[j, i]\n",
    "            for i in range(k):\n",
    "                gamma[j, i] /= px\n",
    "        sum_gamma = sum(gamma, axis=0)\n",
    "\n",
    "        # step M\n",
    "        for i in range(k):\n",
    "            mu[i] = mat(zeros((1, feature_count)))\n",
    "            cov[i] = mat(zeros((feature_count, feature_count)))\n",
    "            for j in range(sample_count):\n",
    "                mu[i] += gamma[j, i] * X[j, :]\n",
    "            mu[i] /= sum_gamma[0, i]\n",
    "            for j in range(sample_count):\n",
    "                cov[i] += gamma[j, i] * (X[j, :] - mu[i]).T * (X[j, :] - mu[i])\n",
    "            cov[i] /= sum_gamma[0, i]\n",
    "            phi[i] = sum_gamma[0, i] / sample_count\n",
    "\n",
    "        # check whether mu are convergence\n",
    "        dif = 0\n",
    "        for i in range(k):\n",
    "            distance = (mu[i]-mu_pre[i])*(mu[i]-mu_pre[i]).T\n",
    "            dif += distance[0,0]\n",
    "    return gamma\n",
    "\n",
    "# cluster samples to k groups\n",
    "def cluster(X, init_phi, init_cov, init_mu, k, sample_count, feature_count, result, centroids):\n",
    "    # init centroids set for different classes\n",
    "    gamma = EM(X, init_phi, init_cov, init_mu, k, sample_count, feature_count)\n",
    "    classification = mat(zeros((sample_count, 2)))\n",
    "\n",
    "\n",
    "    for i in range(sample_count):\n",
    "        # Align to groups (return the index of biggest probability, and such prob)\n",
    "        classification[i, :] = argmax(gamma[i, :]), amax(gamma[i, :])\n",
    "        temp = [item for item in squeeze(np.asarray(X[i, :]))] + [argmax(gamma[i, :]), amax(gamma[i, :])]\n",
    "        result.loc[i] = temp\n",
    "\n",
    "        # update centroids\n",
    "    for j in range(k):\n",
    "        pointsInCluster = X[nonzero(classification[:, 0].A == j)[0]]\n",
    "        centroids.append(mean(pointsInCluster, axis=0))\n",
    "\n",
    "    # set 'class' column data type to int\n",
    "    result['class'] = pd.to_numeric(result['class'], downcast='signed', errors='coerce')\n",
    "    \n",
    "    return result, centroids"
   ]
  },
  {
   "cell_type": "code",
   "execution_count": 9,
   "id": "e8b3a1e5",
   "metadata": {},
   "outputs": [],
   "source": [
    "result, centroids = cluster(X, init_phi, init_cov, init_mu, k, sample_count, feature_count, result, centroids)"
   ]
  },
  {
   "cell_type": "code",
   "execution_count": 10,
   "id": "0987c810",
   "metadata": {},
   "outputs": [
    {
     "name": "stdout",
     "output_type": "stream",
     "text": [
      "     sepal length  sepal width  petal length  petal width  class      Prob\n",
      "0             5.1          3.5           1.4          0.2      2  1.000000\n",
      "1             4.9          3.0           1.4          0.2      2  1.000000\n",
      "2             4.7          3.2           1.3          0.2      2  1.000000\n",
      "3             4.6          3.1           1.5          0.2      2  1.000000\n",
      "4             5.0          3.6           1.4          0.2      2  1.000000\n",
      "..            ...          ...           ...          ...    ...       ...\n",
      "145           6.7          3.0           5.2          2.3      0  1.000000\n",
      "146           6.3          2.5           5.0          1.9      0  0.999496\n",
      "147           6.5          3.0           5.2          2.0      0  0.997426\n",
      "148           6.2          3.4           5.4          2.3      0  0.999992\n",
      "149           5.9          3.0           5.1          1.8      0  0.894120\n",
      "\n",
      "[150 rows x 6 columns]\n"
     ]
    }
   ],
   "source": [
    "print(result)"
   ]
  },
  {
   "cell_type": "code",
   "execution_count": 11,
   "id": "6a66f074",
   "metadata": {},
   "outputs": [
    {
     "name": "stdout",
     "output_type": "stream",
     "text": [
      "[2, 2, 2, 2, 2, 2, 2, 2, 2, 2, 2, 2, 2, 2, 2, 2, 2, 2, 2, 2, 2, 2, 2, 2, 2, 2, 2, 2, 2, 2, 2, 2, 2, 2, 2, 2, 2, 2, 2, 2, 2, 2, 2, 2, 2, 2, 2, 2, 2, 2, 1, 1, 1, 1, 1, 1, 1, 1, 1, 1, 1, 1, 1, 1, 1, 1, 1, 1, 1, 1, 0, 1, 1, 1, 1, 1, 1, 1, 1, 1, 1, 1, 1, 0, 1, 1, 1, 1, 1, 1, 1, 1, 1, 1, 1, 1, 1, 1, 1, 1, 0, 0, 0, 0, 0, 0, 0, 0, 0, 0, 0, 0, 0, 0, 0, 0, 0, 0, 0, 0, 0, 0, 0, 0, 0, 0, 0, 0, 0, 0, 0, 0, 0, 0, 0, 0, 0, 0, 0, 0, 0, 0, 0, 0, 0, 0, 0, 0, 0, 0]\n",
      "-----\n",
      "[0 0 0 0 0 0 0 0 0 0 0 0 0 0 0 0 0 0 0 0 0 0 0 0 0 0 0 0 0 0 0 0 0 0 0 0 0\n",
      " 0 0 0 0 0 0 0 0 0 0 0 0 0 1 1 1 1 1 1 1 1 1 1 1 1 1 1 1 1 1 1 1 1 1 1 1 1\n",
      " 1 1 1 1 1 1 1 1 1 1 1 1 1 1 1 1 1 1 1 1 1 1 1 1 1 1 2 2 2 2 2 2 2 2 2 2 2\n",
      " 2 2 2 2 2 2 2 2 2 2 2 2 2 2 2 2 2 2 2 2 2 2 2 2 2 2 2 2 2 2 2 2 2 2 2 2 2\n",
      " 2 2]\n"
     ]
    }
   ],
   "source": [
    "print(result['class'].values.tolist())\n",
    "print('-----')\n",
    "print(target)"
   ]
  },
  {
   "cell_type": "code",
   "execution_count": 12,
   "id": "181d17e6",
   "metadata": {},
   "outputs": [
    {
     "name": "stdout",
     "output_type": "stream",
     "text": [
      "0.32\n"
     ]
    }
   ],
   "source": [
    "# Label replacement\n",
    "predicted_label = result['class'].values.tolist().copy()\n",
    "# Calculate accuracy\n",
    "print(sum(predicted_label == target) / len(predicted_label))"
   ]
  },
  {
   "cell_type": "code",
   "execution_count": 13,
   "id": "0caa0dd3",
   "metadata": {},
   "outputs": [
    {
     "data": {
      "image/png": "[encoded data removed]",
      "text/plain": [
       "<Figure size 432x288 with 1 Axes>"
      ]
     },
     "metadata": {
      "needs_background": "light"
     },
     "output_type": "display_data"
    }
   ],
   "source": [
    "# set dot type and color\n",
    "mark_sample = ['ro', 'bo', 'go', 'ok']\n",
    "mark_centroids = ['Dr', 'Db', 'Dg', 'Dk']\n",
    "if k > len(mark_sample):\n",
    "    print(\"k is too large\")\n",
    "\n",
    "fig = plt.figure()\n",
    "# plot all samples\n",
    "for i in range(sample_count):\n",
    "    markIndex = result['class'].iloc[i]\n",
    "    plt.plot(result['sepal length'].iloc[i], result['sepal width'].iloc[i], mark_sample[markIndex])\n",
    "\n",
    "# plot centroids\n",
    "for i in range(k):\n",
    "    plt.plot(centroids[i][0, 0], centroids[i][0, 1], mark_centroids[i], markersize=12)\n",
    "\n",
    "# set title and labels\n",
    "fig.suptitle('Sepal data', fontsize=20)\n",
    "plt.xlabel('sepal length in cm', fontsize=18)\n",
    "plt.ylabel('sepal width in cm', fontsize=16)\n",
    "\n",
    "plt.show()"
   ]
  },
  {
   "cell_type": "markdown",
   "id": "edebf084",
   "metadata": {},
   "source": [
    "## Existing function"
   ]
  },
  {
   "cell_type": "code",
   "execution_count": 14,
   "id": "9c5b99e2",
   "metadata": {},
   "outputs": [],
   "source": [
    "from sklearn.model_selection import train_test_split\n",
    "\n",
    "X_train, X_test, y_train, y_test = train_test_split(iris.data, iris.target, test_size=0.20)\n"
   ]
  },
  {
   "cell_type": "code",
   "execution_count": 15,
   "id": "ecdef935",
   "metadata": {},
   "outputs": [
    {
     "name": "stdout",
     "output_type": "stream",
     "text": [
      "3\n"
     ]
    }
   ],
   "source": [
    "n_classes = len(np.unique(y_train))\n",
    "print(n_classes)"
   ]
  },
  {
   "cell_type": "code",
   "execution_count": 16,
   "id": "7c7259d3",
   "metadata": {},
   "outputs": [],
   "source": [
    "classifiers = dict((covar_type, GaussianMixture(n_components=n_classes,\n",
    "                    covariance_type=covar_type, max_iter=1000, tol=0.0001))\n",
    "                   for covar_type in ['spherical', 'diag', 'tied', 'full'])\n",
    "\n",
    "n_classifiers = len(classifiers)"
   ]
  },
  {
   "cell_type": "code",
   "execution_count": 17,
   "id": "a2fc06d2",
   "metadata": {},
   "outputs": [
    {
     "name": "stdout",
     "output_type": "stream",
     "text": [
      "GaussianMixture(covariance_type='spherical', max_iter=1000, n_components=3,\n",
      "                tol=0.0001)\n",
      "[1 1 2 2 0 0 1 0 2 1 0 1 0 2 1 1 1 0 0 0 0 2 2 1 0 0 2 1 0 0] [0 0 2 2 1 1 0 1 2 0 1 0 1 2 0 0 0 2 1 1 2 2 2 0 1 2 2 0 1 1]\n",
      "0.23333333333333334\n",
      "GaussianMixture(covariance_type='diag', max_iter=1000, n_components=3,\n",
      "                tol=0.0001)\n",
      "[1 1 0 2 0 0 1 0 2 1 0 1 0 2 1 1 1 0 0 0 0 2 2 1 0 0 2 1 0 0] [0 0 2 2 1 1 0 1 2 0 1 0 1 2 0 0 0 2 1 1 2 2 2 0 1 2 2 0 1 1]\n",
      "0.2\n",
      "GaussianMixture(covariance_type='tied', max_iter=1000, n_components=3,\n",
      "                tol=0.0001)\n",
      "[0 0 1 2 1 1 0 1 2 0 1 0 1 2 0 0 0 2 1 1 2 2 2 0 1 1 2 0 1 1] [0 0 2 2 1 1 0 1 2 0 1 0 1 2 0 0 0 2 1 1 2 2 2 0 1 2 2 0 1 1]\n",
      "0.9333333333333333\n",
      "GaussianMixture(max_iter=1000, n_components=3, tol=0.0001)\n",
      "[1 1 2 2 0 0 1 0 2 1 2 1 0 2 1 1 1 2 0 0 2 2 2 1 0 2 2 1 0 0] [0 0 2 2 1 1 0 1 2 0 1 0 1 2 0 0 0 2 1 1 2 2 2 0 1 2 2 0 1 1]\n",
      "0.3333333333333333\n"
     ]
    }
   ],
   "source": [
    "for index, (name, classifier) in enumerate(classifiers.items()):\n",
    "    # Since we have class labels for the training data, we can\n",
    "    # initialize the GMM parameters in a supervised manner.\n",
    "    classifier.means_ = np.array([X_train[y_train == i].mean(axis=0)\n",
    "                                  for i in range(n_classes)])\n",
    "\n",
    "    # Train the other parameters using the EM algorithm.\n",
    "    classifier.fit(X_train)\n",
    "    Y_predict = classifier.predict(np.array(X_test))\n",
    "    \n",
    "    print(classifier)\n",
    "    print(Y_predict, y_test)\n",
    "    # Calculate accuracy\n",
    "    print(sum(y_test == Y_predict) / len(y_test))"
   ]
  },
  {
   "cell_type": "code",
   "execution_count": null,
   "id": "42eabb81",
   "metadata": {},
   "outputs": [],
   "source": []
  },
  {
   "cell_type": "code",
   "execution_count": 18,
   "id": "f0b27b89",
   "metadata": {},
   "outputs": [],
   "source": [
    "#df = pd.DataFrame(features, columns=feature_names)\n",
    "#df['label'] = target\n",
    "#\n",
    "## 種類 (ラベル) によって、サンプル数を変えます\n",
    "#d1 = df[df['label'] == 0].sample(50)  # setosa\n",
    "#d2 = df[df['label'] == 1].sample(50)  # versicolor\n",
    "#d3 = df[df['label'] == 2].sample(50)  # virginica\n",
    "#\n",
    "## 萼片長のデータのみを使う\n",
    "#X = pd.concat([d1['sepal length (cm)'], d2['sepal length (cm)'], d3['sepal length (cm)']])\n",
    "#Y = pd.concat([d1['label'], d2['label'], d3['label']])\n",
    "#\n",
    "## ヒストグラム\n",
    "#plt.hist([X[Y==0], X[Y==1], X[Y==2]], bins=np.arange(X.min(), X.max(), 0.2), stacked=True, label=iris.target_names)\n",
    "#plt.legend()\n",
    "#plt.plot()\n",
    "\n",
    "X = features\n",
    "Y = target"
   ]
  },
  {
   "cell_type": "code",
   "execution_count": 19,
   "id": "12388df2",
   "metadata": {},
   "outputs": [
    {
     "name": "stdout",
     "output_type": "stream",
     "text": [
      "[0.41424139 0.33333333 0.25242528]\n",
      "[[5.90559615 2.74897543 4.40306782 1.43281519]\n",
      " [5.006      3.428      1.462      0.246     ]\n",
      " [6.84687497 3.07388893 5.73133465 2.07507737]]\n",
      "[0.16336052 0.075756   0.16276365]\n"
     ]
    }
   ],
   "source": [
    "# training GaussianMixture\n",
    "gmm = GaussianMixture(\n",
    "    n_components=3,\n",
    "    covariance_type='spherical',\n",
    "    max_iter=1000,\n",
    "    tol=0.0001\n",
    ").fit(\n",
    "    #np.array(X).reshape(-1, 1)  # 次元数2を入力とするため変形\n",
    "    np.array(X)\n",
    ")\n",
    "\n",
    "# weights\n",
    "print(gmm.weights_)\n",
    "\n",
    "# Mean parameters\n",
    "print(gmm.means_)\n",
    "\n",
    "# Covariance parameters\n",
    "print(gmm.covariances_)"
   ]
  },
  {
   "cell_type": "code",
   "execution_count": 20,
   "id": "50928227",
   "metadata": {},
   "outputs": [
    {
     "data": {
      "image/png": "[encoded data removed]",
      "text/plain": [
       "<Figure size 432x288 with 1 Axes>"
      ]
     },
     "metadata": {
      "needs_background": "light"
     },
     "output_type": "display_data"
    }
   ],
   "source": [
    "x = np.linspace(3, 9, 600)\n",
    "\n",
    "gd1 = norm.pdf(x, gmm.means_[0, -1], np.sqrt(gmm.covariances_[0]))\n",
    "gd2 = norm.pdf(x, gmm.means_[1, -1], np.sqrt(gmm.covariances_[1]))\n",
    "gd3 = norm.pdf(x, gmm.means_[2, -1], np.sqrt(gmm.covariances_[2]))\n",
    "    \n",
    "plt.plot(x, gmm.weights_[0] * gd1, label='gd1')\n",
    "plt.plot(x, gmm.weights_[1] * gd2, label='gd2')\n",
    "plt.plot(x, gmm.weights_[2] * gd3, label='gd3')\n",
    "plt.legend()\n",
    "plt.show()"
   ]
  },
  {
   "cell_type": "code",
   "execution_count": 21,
   "id": "9bd20645",
   "metadata": {},
   "outputs": [
    {
     "name": "stdout",
     "output_type": "stream",
     "text": [
      "[1 1 1 1 1 1 1 1 1 1 1 1 1 1 1 1 1 1 1 1 1 1 1 1 1 1 1 1 1 1 1 1 1 1 1 1 1\n",
      " 1 1 1 1 1 1 1 1 1 1 1 1 1 0 0 2 0 0 0 0 0 0 0 0 0 0 0 0 0 0 0 0 0 0 0 0 0\n",
      " 0 0 0 2 0 0 0 0 0 0 0 0 0 0 0 0 0 0 0 0 0 0 0 0 0 0 2 0 2 2 2 2 0 2 2 2 2\n",
      " 2 2 0 0 2 2 2 2 0 2 0 2 0 2 2 0 0 2 2 2 2 2 0 2 2 2 2 0 2 2 2 0 2 2 2 0 2\n",
      " 2 0] 150\n"
     ]
    }
   ],
   "source": [
    "# Distribution prediction\n",
    "#Y_predict = gmm.predict(np.array(X).reshape(-1, 1))\n",
    "Y_predict = gmm.predict(np.array(X))\n",
    "print(Y_predict, len(Y_predict))"
   ]
  },
  {
   "cell_type": "code",
   "execution_count": 22,
   "id": "a8db6d95",
   "metadata": {},
   "outputs": [
    {
     "name": "stdout",
     "output_type": "stream",
     "text": [
      "0.24\n"
     ]
    }
   ],
   "source": [
    "# Calculate accuracy\n",
    "print(sum(Y == Y_predict) / len(Y))"
   ]
  },
  {
   "cell_type": "code",
   "execution_count": 23,
   "id": "6a70187c",
   "metadata": {},
   "outputs": [
    {
     "name": "stdout",
     "output_type": "stream",
     "text": [
      "0.8933333333333333\n"
     ]
    }
   ],
   "source": [
    "# Label replacement\n",
    "Y_new = Y.copy()\n",
    "for i in range(len(Y_new)):\n",
    "    if Y_new[i] == 0:\n",
    "        Y_new[i] = 1\n",
    "    elif Y_new[i] == 1:\n",
    "        Y_new[i] = 0\n",
    "    elif Y_new[i] == 2:\n",
    "        Y_new[i] = 2\n",
    "\n",
    "# Calculate accuracy\n",
    "print(sum(Y_new == Y_predict) / len(Y_new))"
   ]
  },
  {
   "cell_type": "markdown",
   "id": "ca18d6f5",
   "metadata": {},
   "source": [
    "# Evaluate using the vowel mfcc"
   ]
  },
  {
   "cell_type": "code",
   "execution_count": 8,
   "id": "8a397865",
   "metadata": {},
   "outputs": [],
   "source": [
    "filepath = '/opt/share/takkan/samples/aiueo_trimmed.wav'\n",
    "n_mfcc = 20\n",
    "sr = 16000\n",
    "signal, _ = librosa.load(filepath, sr=sr)\n",
    "mfcc = librosa.feature.mfcc(y=signal, sr=sr, n_mfcc=n_mfcc)"
   ]
  },
  {
   "cell_type": "code",
   "execution_count": 9,
   "id": "5946b85d",
   "metadata": {},
   "outputs": [
    {
     "data": {
      "image/png": "[encoded data removed]",
      "text/plain": [
       "<Figure size 432x288 with 2 Axes>"
      ]
     },
     "metadata": {
      "needs_background": "light"
     },
     "output_type": "display_data"
    }
   ],
   "source": [
    "fig = plt.figure()\n",
    "librosa.display.specshow(mfcc, cmap='jet')\n",
    "plt.colorbar()\n",
    "plt.show()"
   ]
  },
  {
   "cell_type": "code",
   "execution_count": 10,
   "id": "1b259c26",
   "metadata": {},
   "outputs": [
    {
     "data": {
      "image/png": "[encoded data removed]",
      "text/plain": [
       "<Figure size 432x288 with 1 Axes>"
      ]
     },
     "metadata": {
      "needs_background": "light"
     },
     "output_type": "display_data"
    }
   ],
   "source": [
    "fig = plt.figure()\n",
    "plt.plot(signal)\n",
    "plt.title('Signal')\n",
    "plt.xlabel('Time (samples)')\n",
    "plt.ylabel('Amplitude')\n",
    "fig.show()"
   ]
  },
  {
   "cell_type": "code",
   "execution_count": 11,
   "id": "815c6d8c",
   "metadata": {},
   "outputs": [
    {
     "data": {
      "image/png": "[encoded data removed]",
      "text/plain": [
       "<Figure size 432x288 with 1 Axes>"
      ]
     },
     "metadata": {
      "needs_background": "light"
     },
     "output_type": "display_data"
    }
   ],
   "source": [
    "n_fft = 2048\n",
    "signal_ft = np.abs(librosa.stft(signal[:n_fft], hop_length = n_fft+1))\n",
    "\n",
    "fig = plt.figure()\n",
    "plt.plot(signal_ft)\n",
    "plt.title('Spectrum')\n",
    "plt.xlabel('Frequency Bin')\n",
    "plt.ylabel('Amplitude')\n",
    "fig.show()"
   ]
  },
  {
   "cell_type": "code",
   "execution_count": null,
   "id": "4e045ee2",
   "metadata": {},
   "outputs": [],
   "source": []
  }
 ],
 "metadata": {
  "kernelspec": {
   "display_name": "speech",
   "language": "python",
   "name": "speech"
  },
  "language_info": {
   "codemirror_mode": {
    "name": "ipython",
    "version": 3
   },
   "file_extension": ".py",
   "mimetype": "text/x-python",
   "name": "python",
   "nbconvert_exporter": "python",
   "pygments_lexer": "ipython3",
   "version": "3.7.0"
  }
 },
 "nbformat": 4,
 "nbformat_minor": 5
}
