{
 "cells": [
  {
   "cell_type": "code",
   "execution_count": 1,
   "id": "4f1d1a71",
   "metadata": {},
   "outputs": [
    {
     "name": "stderr",
     "output_type": "stream",
     "text": [
      "/home/takkan/miniconda3/envs/speech_split/lib/python3.7/site-packages/seaborn/distributions.py:2619: FutureWarning: `distplot` is a deprecated function and will be removed in a future version. Please adapt your code to use either `displot` (a figure-level function with similar flexibility) or `histplot` (an axes-level function for histograms).\n",
      "  warnings.warn(msg, FutureWarning)\n"
     ]
    },
    {
     "data": {
      "text/plain": [
       "Text(0.5, 1.0, 'Gaussian Mixture Model')"
      ]
     },
     "execution_count": 1,
     "metadata": {},
     "output_type": "execute_result"
    },
    {
     "data": {
      "image/png": "[encoded data removed]",
      "text/plain": [
       "<Figure size 432x288 with 1 Axes>"
      ]
     },
     "metadata": {
      "needs_background": "light"
     },
     "output_type": "display_data"
    }
   ],
   "source": [
    "import numpy as np\n",
    "import matplotlib.pyplot as plt\n",
    "import seaborn as sns\n",
    "\n",
    "#x1 = np.random.normal(loc=0.5, scale=1 , size =100).reshape(-1,1)\n",
    "#x2 = np.random.normal(loc=10, scale=2 , size =100).reshape(-1,1)\n",
    "#x3 = np.random.normal(loc=0, scale=3 , size =100).reshape(-1,1)\n",
    "#x = np.concatenate([x1 , x2 , x3])\n",
    "\n",
    "from sklearn.datasets import load_iris\n",
    "from sklearn.decomposition import PCA\n",
    "iris = load_iris()\n",
    "pca = PCA(n_components=1)\n",
    "iris_data = pca.fit_transform(iris.data)\n",
    "sns.distplot( iris_data )\n",
    "plt.title(\"Gaussian Mixture Model\")"
   ]
  },
  {
   "cell_type": "code",
   "execution_count": 2,
   "id": "c1827d97",
   "metadata": {},
   "outputs": [
    {
     "data": {
      "image/png": "[encoded data removed]",
      "text/plain": [
       "<Figure size 432x288 with 1 Axes>"
      ]
     },
     "metadata": {
      "needs_background": "light"
     },
     "output_type": "display_data"
    }
   ],
   "source": [
    "p = plt.subplot()\n",
    "p.scatter(iris_data, [0 for i in range(len(iris_data))])\n",
    "plt.show()"
   ]
  },
  {
   "cell_type": "code",
   "execution_count": 3,
   "id": "177d16ea",
   "metadata": {},
   "outputs": [],
   "source": [
    "def Gaus(x,m, s): #正規分布の値を取得\n",
    "    g = np.exp( - pow((x-m), 2) /(2*s) )/np.sqrt(2*np.pi * s )\n",
    "    return g\n",
    " \n",
    "    \n",
    "def calc_gamma(x, pi, mu, sig): #事後分布の計算\n",
    "    gam = pi*Gaus(x,mu,sig)\n",
    "    gam/= np.sum(gam, axis=1).reshape(len(x),1)\n",
    "    return gam\n",
    " \n",
    "    \n",
    "def update_parmas(gamma, x, pi, mu, sig): #パラメーターの更新式\n",
    "    N_k = np.sum(gamma, axis=0)\n",
    "    N = np.sum(N_k)\n",
    "    mu_k = np.sum(x*gamma, axis=0 ) /N_k\n",
    "    sig_k = np.sum(gamma* pow(x-mu, 2), axis=0) /N_k\n",
    "    pi_k = N_k/N\n",
    "    return pi_k , mu_k, sig_k\n",
    " \n",
    "    \n",
    "def iteration(x,mu,sig,pi, I=100, e=0.01): #ε以下になるか、100回計算するまで尤度を更新する関数\n",
    "    LF=0   \n",
    "    for i in range(I):\n",
    "        gamma = calc_gamma(x, pi, mu, sig)\n",
    "        LF_new =np.sum(np.log(np.sum(pi*Gaus(x,mu,sig),axis=1 )) )\n",
    "        ch = LF_new - LF\n",
    "        print(\"LF ={} . change = {}\".format(LF_new, ch))\n",
    "        if np.abs(ch) < e:\n",
    "            print(\"Iteration is finished {} iter. \".format(i+1))\n",
    "            break\n",
    "        LF=LF_new\n",
    "        pi, mu, sig = update_parmas(gamma, x, pi, mu, sig)\n",
    " \n",
    "    return pi, mu, sig\n"
   ]
  },
  {
   "cell_type": "code",
   "execution_count": 4,
   "id": "1c0c1bc7",
   "metadata": {},
   "outputs": [
    {
     "name": "stdout",
     "output_type": "stream",
     "text": [
      "LF =-684.0552275312813 . change = -684.0552275312813\n",
      "LF =-314.71545102083337 . change = 369.3397765104479\n",
      "LF =-305.0311014123197 . change = 9.684349608513685\n",
      "LF =-301.40363689705447 . change = 3.627464515265217\n",
      "LF =-296.83714751406166 . change = 4.566489382992813\n",
      "LF =-288.9063759734231 . change = 7.9307715406385455\n",
      "LF =-273.0308666036896 . change = 15.875509369733493\n",
      "LF =-245.82711061084314 . change = 27.20375599284648\n",
      "LF =-234.87731188505046 . change = 10.949798725792675\n",
      "LF =-234.59847641156693 . change = 0.2788354734835252\n",
      "LF =-234.4629533643686 . change = 0.1355230471983475\n",
      "LF =-234.39157865568595 . change = 0.07137470868264018\n",
      "LF =-234.35271512397122 . change = 0.038863531714724786\n",
      "LF =-234.33082595236442 . change = 0.021889171606801483\n",
      "LF =-234.3180086751934 . change = 0.012817277171023989\n",
      "LF =-234.31011008773825 . change = 0.007898587455144934\n",
      "Iteration is finished 16 iter. \n"
     ]
    }
   ],
   "source": [
    "mu =np.array([0,1,2])\n",
    "sig=np.array([0.5, 0.7, 0.9])\n",
    "pi=np.array([0.1,0.2, 0.3])\n",
    "pi, mu, sig = iteration(iris_data, mu, sig, pi, I=100)"
   ]
  },
  {
   "cell_type": "code",
   "execution_count": 5,
   "id": "ee5ad23c",
   "metadata": {},
   "outputs": [
    {
     "name": "stdout",
     "output_type": "stream",
     "text": [
      "[0.33305545 0.19583096 0.47111359] [-2.64262805  1.21027622  1.36513173] [0.21903633 1.01553481 1.02132255]\n"
     ]
    }
   ],
   "source": [
    "print(pi, mu, np.sqrt(sig) )"
   ]
  },
  {
   "cell_type": "code",
   "execution_count": 6,
   "id": "96a630d6",
   "metadata": {},
   "outputs": [
    {
     "name": "stderr",
     "output_type": "stream",
     "text": [
      "/home/takkan/miniconda3/envs/speech_split/lib/python3.7/site-packages/seaborn/distributions.py:2619: FutureWarning: `distplot` is a deprecated function and will be removed in a future version. Please adapt your code to use either `displot` (a figure-level function with similar flexibility) or `histplot` (an axes-level function for histograms).\n",
      "  warnings.warn(msg, FutureWarning)\n"
     ]
    },
    {
     "data": {
      "text/plain": [
       "Text(0.5, 1.0, 'Predicted GMM')"
      ]
     },
     "execution_count": 6,
     "metadata": {},
     "output_type": "execute_result"
    },
    {
     "data": {
      "image/png": "[encoded data removed]",
      "text/plain": [
       "<Figure size 432x288 with 1 Axes>"
      ]
     },
     "metadata": {
      "needs_background": "light"
     },
     "output_type": "display_data"
    }
   ],
   "source": [
    "y0 = np.random.normal(loc=mu[0], scale=np.sqrt(sig)[0] , size =int(300*pi[0]) ).reshape(-1,1)\n",
    "y1 = np.random.normal(loc=mu[1], scale=np.sqrt(sig)[1] , size =int(300*pi[1]) ).reshape(-1,1)\n",
    "y2 = np.random.normal(loc=mu[2], scale=np.sqrt(sig)[2] , size =int(300*pi[2]) ).reshape(-1,1)\n",
    "y=np.concatenate([y0, y1, y2])\n",
    "sns.distplot(y)\n",
    "plt.title(\"Predicted GMM\")"
   ]
  },
  {
   "cell_type": "code",
   "execution_count": null,
   "id": "b9b9318e",
   "metadata": {},
   "outputs": [],
   "source": []
  }
 ],
 "metadata": {
  "kernelspec": {
   "display_name": "speech_split",
   "language": "python",
   "name": "speech_split"
  },
  "language_info": {
   "codemirror_mode": {
    "name": "ipython",
    "version": 3
   },
   "file_extension": ".py",
   "mimetype": "text/x-python",
   "name": "python",
   "nbconvert_exporter": "python",
   "pygments_lexer": "ipython3",
   "version": "3.7.10"
  }
 },
 "nbformat": 4,
 "nbformat_minor": 5
}
